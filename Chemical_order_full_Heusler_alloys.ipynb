{
 "cells": [
  {
   "cell_type": "markdown",
   "id": "cognitive-cincinnati",
   "metadata": {},
   "source": [
    "# No. of possible atomic combination in a full Heusler alloy \n",
    "\n",
    "In a Heusler alloy of $X_2YZ$ type, there are many ways the elements can be arranged in any of the sites. In general, transition metal elements are expected to occupy X and Y sites, whereas Z site is occupied by main group element. For instance in $Co_2FeGe$, X and Y sites are occupied by Co and Fe atoms respectively and Ge atom occupies Z site. However, these atoms can swap their positions resulting in a disordered structure. With the help of the code below, we want to find the number of ways we can arrange the atoms in the available sites depending upon the ordering in the X-site. This can described in the table below."
   ]
  },
  {
   "cell_type": "markdown",
   "id": "special-giant",
   "metadata": {},
   "source": [
    "| Elements | $X_2$ | Y | Z | Total |\n",
    "|---------|:------------:|:-------------:|:-------------:|:----------:|\n",
    "| No. of Co | 2x | y | 2 - 2x - y | 2|\n",
    "| No. of Fe | y | z | 1 - y - z | 1 |\n",
    "| No. of Ge | 2 - 2x - y | 1 - y - z | 2x + 2y + z - 2 | 1|\n",
    "| Total | 2 | 1 | 1 | |\n",
    "\n",
    "With limits   $0 \\le x \\le 1$;   $0 \\le y \\le 2 - 2x$;   $0 \\le z \\le 1 - y$\n",
    "            "
   ]
  },
  {
   "cell_type": "markdown",
   "id": "available-recruitment",
   "metadata": {},
   "source": [
    "The fraction of an element in a site is represented by the site name followed by the element name. $XCo$, for example, represents the fraction of Co elements in the X site. The elemental fraction can be converted into number of atoms by multiplying it by 4. Note than maximum number of atoms in the X-site is 4, whereas Y and Z site each have 4 elements.\n",
    "\n",
    "Running the cell below, will ask for the degree of ordering in the X-site. Below an example is shown for the case when X-site is fully occpied (that is all the Co atoms fill the X site). In this case, only the Fe and Ge can be swapped and there are 5 ways one can swap these atoms as shown below.\n",
    "\n",
    "Also note that the inputs can only be the multiple of 0.25 (0, 0.25, 0.50, 0.75, or 1), as any other inputs would result in fractional element number."
   ]
  },
  {
   "cell_type": "code",
   "execution_count": 46,
   "id": "streaming-child",
   "metadata": {},
   "outputs": [
    {
     "name": "stdout",
     "output_type": "stream",
     "text": [
      "Enter the degree of ordering on X site:1\n",
      "X, Y, Z represent sites\n",
      "\n",
      "Multipy the number by 4 to get the number of atoms of each element in the site\n",
      "\n",
      "\n",
      "XCo \t YCo \t ZCo \t XFe \t YFe \t ZFe \t XGe \t YGe \t ZGe\n",
      "2.0 \t 0.0 \t 0.0  \t 0.0  \t 0.0  \t 1.0  \t 0.0  \t 1.0  \t 0.0\n",
      "2.0 \t 0.0 \t 0.0  \t 0.0  \t 0.25  \t 0.75  \t 0.0  \t 0.75  \t 0.25\n",
      "2.0 \t 0.0 \t 0.0  \t 0.0  \t 0.5  \t 0.5  \t 0.0  \t 0.5  \t 0.5\n",
      "2.0 \t 0.0 \t 0.0  \t 0.0  \t 0.75  \t 0.25  \t 0.0  \t 0.25  \t 0.75\n",
      "2.0 \t 0.0 \t 0.0  \t 0.0  \t 1.0  \t 0.0  \t 0.0  \t 0.0  \t 1.0\n",
      "Number of possible configurations = 5\n"
     ]
    }
   ],
   "source": [
    "import numpy as np\n",
    "x = float(input(\"Enter the degree of ordering on X site:\"))\n",
    "lis1 =[]\n",
    "for a in np.arange(0,(2-(2*x)+.25),0.25):  # based on x defining y  values\n",
    "    if a<=1:\n",
    "        lis1.append(a)        \n",
    "lis2 =[]\n",
    "\n",
    "for item in lis1:\n",
    "        #lis2 =[]\n",
    "        X1 = 2*x\n",
    "        Y1 = item\n",
    "        if (X1+Y1 <=2):\n",
    "            Z1 = 2-2*x-item\n",
    "\n",
    "\n",
    "        for item1 in lis1:\n",
    "            if (item1+X1 <=2):\n",
    "                X2=item1\n",
    "            for b in np.arange(0,(1-item1+0.25),0.25):\n",
    "                if (X2+b <=1):\n",
    "                    Y2 = b\n",
    "                    if (0<= X2+Y2 <=1):\n",
    "                        Z2 = 1-X2-Y2\n",
    "               \n",
    "                if (0<=2-X1-X2<=1):\n",
    "                    X3=2-X1-X2\n",
    "                    for c in np.arange(0,(1-X3+0.25),0.25):\n",
    "                          if (X3+c <=1 and 0<= Y1+Y2+c <=1):\n",
    "                            Y3=1-Y1-Y2\n",
    "                            Z3=1-X3-Y3\n",
    "                            if (X3+Y3+Z3 ==1 and Z1+Z2+Z3 ==1 and 0<=Z3 <=1 and [X1,Y1,Z1,X2,Y2,Z2,X3,Y3,Z3] not in lis2):\n",
    "                                lis2.append([X1,Y1,Z1,X2,Y2,Z2,X3,Y3,Z3])\n",
    "\n",
    "print(\"X, Y, Z represent sites\")\n",
    "print(\"\\nMultipy the number by 4 to get the number of atoms of each element in the site\")                                \n",
    "print(\"\\n\\nXCo \\t YCo \\t ZCo \\t XFe \\t YFe \\t ZFe \\t XGe \\t YGe \\t ZGe\")       \n",
    "for i in range(len(lis2)):          \n",
    "   print('{} \\t {} \\t {}  \\t {}  \\t {}  \\t {}  \\t {}  \\t {}  \\t {}'.format(lis2[i][0],lis2[i][1],lis2[i][2],lis2[i][3],lis2[i][4],lis2[i][5],lis2[i][6],lis2[i][7],lis2[i][8]))\n",
    "print(\"Number of possible configurations = \"+str(len(lis2)))"
   ]
  },
  {
   "cell_type": "code",
   "execution_count": null,
   "id": "desirable-extra",
   "metadata": {},
   "outputs": [],
   "source": []
  },
  {
   "cell_type": "code",
   "execution_count": null,
   "id": "accessible-fields",
   "metadata": {},
   "outputs": [],
   "source": []
  }
 ],
 "metadata": {
  "kernelspec": {
   "display_name": "python38",
   "language": "python",
   "name": "python38"
  },
  "language_info": {
   "codemirror_mode": {
    "name": "ipython",
    "version": 3
   },
   "file_extension": ".py",
   "mimetype": "text/x-python",
   "name": "python",
   "nbconvert_exporter": "python",
   "pygments_lexer": "ipython3",
   "version": "3.8.8"
  }
 },
 "nbformat": 4,
 "nbformat_minor": 5
}
