{
 "cells": [
  {
   "cell_type": "markdown",
   "id": "sophisticated-applicant",
   "metadata": {},
   "source": [
    "# Resistivity fit for Heusler alloys\n",
    "\n",
    "In case of magnetic alloys, the electrons are scattered mainly by three factors; the lattice defects or surface scattering ($\\rho$) (a temperature independent effect), the lattice vibration ($\\rho_{ph}$), and the magnonic scattering ($\\rho_{mag}$) thus impeding the electron conduction. Hence, the total resistivity of a ferromagnetic alloy can be written as; $$ \\rho(T) = \\rho_0 + \\rho_{ph}(T) + \\rho_{mag}(T) \\tag{1}$$\n",
    "\n",
    "The temperature dependent electrical resistivity due to electron-phonon interaction can be modeled using Bloch-Gr$\\ddot{u}$neisen formula; $$ \\rho_{ph}(T) = \\alpha (\\frac{T}{\\Theta_D})^5 \\int_{0}^{\\frac{\\Theta_D}{T}} \\frac{x^5}{(e^x - 1)(1 - e^{-x})}dx  \\tag{2}$$\n",
    "$\\alpha$ is a constant that is proportional to $ \\frac{\\lambda_{tr}\\omega_D}{\\omega_p^2}$ ($\\lambda_{tr}$ is electron-phonon coupling constant, $\\omega_D$ is Debye frequency, and $\\omega_p$ is plasma frequency) and $\\Theta_D$ is Debye temperature.\n",
    "\n",
    "The magnetic contribution is expected to follow a $T^2$ variation related to one magnon scattering. But, in case of half-metals, the spin flip-scattering is absent due to the existence of a gap in one of the spin channels. Hence, the electron-magnon scattering can be modified as; $$\\rho_{mag}(T) = \\beta T^2e^{-\\frac{\\Delta}{T}} \\tag{3}$$\n",
    "here $\\Delta$ gives an estimated measure of energy gap between the Fermi level and the unoccupied band edge. The detailed information can be found in [[Link]](https://journals.aps.org/prmaterials/pdf/10.1103/PhysRevMaterials.3.114406).\n",
    "\n",
    "In this notebook, we want to fit equation (1) incorporating the phonon and magnon scattering term from (2) and (3) such that the best value of parameters; $\\Theta_D,\\ \\rho_0,\\ \\alpha,\\ \\beta,$ and $\\Delta$ can be estimated. "
   ]
  },
  {
   "cell_type": "code",
   "execution_count": 1,
   "id": "varied-minister",
   "metadata": {},
   "outputs": [],
   "source": [
    "import numpy as np\n",
    "from math import exp, pi\n",
    "from scipy.integrate import quad\n",
    "from scipy.optimize import curve_fit\n",
    "import matplotlib.pyplot as plt\n",
    "import pandas as pd"
   ]
  },
  {
   "cell_type": "code",
   "execution_count": 24,
   "id": "architectural-breed",
   "metadata": {},
   "outputs": [],
   "source": [
    "# define integral part of equation (2), i.e., Bloch-Gruneisen part\n",
    "f = lambda x: np.power(x,5)/((exp(x)-1)*(1-exp(-x)))\n",
    "\n",
    "n = 5\n",
    "\n",
    "def resistivity_fit(T, *p):\n",
    "    Theta_D, rho0, alpha, beta, delta = p\n",
    "    coeff = np.power(T,n)/np.power(Theta_D, n)\n",
    "    upp_limit = Theta_D/T\n",
    "    res, err = quad(f, 0, upp_limit)\n",
    "    rho = rho0 + alpha*coeff*res + beta*np.power(T,2)*exp(-(delta/T))  # equation (1)\n",
    "    return 1.0/(1.0/rho)    "
   ]
  },
  {
   "cell_type": "markdown",
   "id": "discrete-margin",
   "metadata": {},
   "source": [
    "### Import data\n",
    "\n",
    "The data should contain resistivity values in one column. If one is interested in knowing how to convert experimentally measured resistances (following Van der Pauw method), they can check out my other notebook [[Link]](https://github.com/skc46/Magnetic_material_science_research_related/blob/master/Van_der_Pauw_tofind_Sheet_resistance.ipynb)."
   ]
  },
  {
   "cell_type": "code",
   "execution_count": 48,
   "id": "typical-lottery",
   "metadata": {},
   "outputs": [
    {
     "data": {
      "text/html": [
       "<div>\n",
       "<style scoped>\n",
       "    .dataframe tbody tr th:only-of-type {\n",
       "        vertical-align: middle;\n",
       "    }\n",
       "\n",
       "    .dataframe tbody tr th {\n",
       "        vertical-align: top;\n",
       "    }\n",
       "\n",
       "    .dataframe thead th {\n",
       "        text-align: right;\n",
       "    }\n",
       "</style>\n",
       "<table border=\"1\" class=\"dataframe\">\n",
       "  <thead>\n",
       "    <tr style=\"text-align: right;\">\n",
       "      <th></th>\n",
       "      <th>Temp</th>\n",
       "      <th>Rho</th>\n",
       "    </tr>\n",
       "  </thead>\n",
       "  <tbody>\n",
       "    <tr>\n",
       "      <th>0</th>\n",
       "      <td>3.99956</td>\n",
       "      <td>0.000038</td>\n",
       "    </tr>\n",
       "    <tr>\n",
       "      <th>1</th>\n",
       "      <td>9.01359</td>\n",
       "      <td>0.000038</td>\n",
       "    </tr>\n",
       "    <tr>\n",
       "      <th>2</th>\n",
       "      <td>14.02762</td>\n",
       "      <td>0.000038</td>\n",
       "    </tr>\n",
       "    <tr>\n",
       "      <th>3</th>\n",
       "      <td>19.04164</td>\n",
       "      <td>0.000038</td>\n",
       "    </tr>\n",
       "    <tr>\n",
       "      <th>4</th>\n",
       "      <td>24.05567</td>\n",
       "      <td>0.000038</td>\n",
       "    </tr>\n",
       "  </tbody>\n",
       "</table>\n",
       "</div>"
      ],
      "text/plain": [
       "       Temp       Rho\n",
       "0   3.99956  0.000038\n",
       "1   9.01359  0.000038\n",
       "2  14.02762  0.000038\n",
       "3  19.04164  0.000038\n",
       "4  24.05567  0.000038"
      ]
     },
     "execution_count": 48,
     "metadata": {},
     "output_type": "execute_result"
    }
   ],
   "source": [
    "import os\n",
    "import pandas as pd\n",
    "file_path = 'file_directory'\n",
    "file_name = 'no_iterative_resistivity.xlsx'\n",
    "file = os.path.join(file_path, file_name)\n",
    "df = pd.read_excel(file)\n",
    "df.head()"
   ]
  },
  {
   "cell_type": "code",
   "execution_count": 22,
   "id": "adolescent-suite",
   "metadata": {},
   "outputs": [
    {
     "data": {
      "text/html": [
       "<div>\n",
       "<style scoped>\n",
       "    .dataframe tbody tr th:only-of-type {\n",
       "        vertical-align: middle;\n",
       "    }\n",
       "\n",
       "    .dataframe tbody tr th {\n",
       "        vertical-align: top;\n",
       "    }\n",
       "\n",
       "    .dataframe thead th {\n",
       "        text-align: right;\n",
       "    }\n",
       "</style>\n",
       "<table border=\"1\" class=\"dataframe\">\n",
       "  <thead>\n",
       "    <tr style=\"text-align: right;\">\n",
       "      <th></th>\n",
       "      <th>Unnamed: 0</th>\n",
       "      <th>index</th>\n",
       "      <th>Temp</th>\n",
       "      <th>RA</th>\n",
       "      <th>RB</th>\n",
       "      <th>Rs</th>\n",
       "      <th>Rho</th>\n",
       "    </tr>\n",
       "  </thead>\n",
       "  <tbody>\n",
       "    <tr>\n",
       "      <th>0</th>\n",
       "      <td>0</td>\n",
       "      <td>0</td>\n",
       "      <td>400.141177</td>\n",
       "      <td>0.000392</td>\n",
       "      <td>0.000175</td>\n",
       "      <td>0.001283</td>\n",
       "      <td>0.000117</td>\n",
       "    </tr>\n",
       "    <tr>\n",
       "      <th>1</th>\n",
       "      <td>1</td>\n",
       "      <td>2</td>\n",
       "      <td>398.116829</td>\n",
       "      <td>0.000396</td>\n",
       "      <td>0.000171</td>\n",
       "      <td>0.001286</td>\n",
       "      <td>0.000117</td>\n",
       "    </tr>\n",
       "    <tr>\n",
       "      <th>2</th>\n",
       "      <td>2</td>\n",
       "      <td>4</td>\n",
       "      <td>396.077686</td>\n",
       "      <td>0.000392</td>\n",
       "      <td>0.000170</td>\n",
       "      <td>0.001273</td>\n",
       "      <td>0.000116</td>\n",
       "    </tr>\n",
       "    <tr>\n",
       "      <th>3</th>\n",
       "      <td>3</td>\n",
       "      <td>6</td>\n",
       "      <td>394.070232</td>\n",
       "      <td>0.000389</td>\n",
       "      <td>0.000173</td>\n",
       "      <td>0.001273</td>\n",
       "      <td>0.000116</td>\n",
       "    </tr>\n",
       "    <tr>\n",
       "      <th>4</th>\n",
       "      <td>4</td>\n",
       "      <td>8</td>\n",
       "      <td>392.063474</td>\n",
       "      <td>0.000385</td>\n",
       "      <td>0.000173</td>\n",
       "      <td>0.001265</td>\n",
       "      <td>0.000115</td>\n",
       "    </tr>\n",
       "  </tbody>\n",
       "</table>\n",
       "</div>"
      ],
      "text/plain": [
       "   Unnamed: 0  index        Temp        RA        RB        Rs       Rho\n",
       "0           0      0  400.141177  0.000392  0.000175  0.001283  0.000117\n",
       "1           1      2  398.116829  0.000396  0.000171  0.001286  0.000117\n",
       "2           2      4  396.077686  0.000392  0.000170  0.001273  0.000116\n",
       "3           3      6  394.070232  0.000389  0.000173  0.001273  0.000116\n",
       "4           4      8  392.063474  0.000385  0.000173  0.001265  0.000115"
      ]
     },
     "execution_count": 22,
     "metadata": {},
     "output_type": "execute_result"
    }
   ],
   "source": [
    "# converting sheet resistance into resistivity, if the data already has resistivity, this step can be skipped\n",
    "sample_thickness = 0.091  # in cm\n",
    "df['Rho'] = df['Rs']*sample_thickness\n",
    "df.head()"
   ]
  },
  {
   "cell_type": "code",
   "execution_count": 77,
   "id": "southern-efficiency",
   "metadata": {},
   "outputs": [
    {
     "name": "stdout",
     "output_type": "stream",
     "text": [
      "Best fitted parameters; ϴ_D :289.4790936573971 K \t ρ_0 :3.824549412112625e-05 Ω-cm \t α :0.007996632721963335 Ω-cm \t β :1.3008405949158132e-09 Ω-cm/K^2 \t Δ :2627.395598803756 K\n"
     ]
    }
   ],
   "source": [
    "exp_temp = df['Temp']\n",
    "exp_rho = df['Rho']\n",
    "\n",
    "p0 = np.array([300.0, 0.0001, 0.002,3e-7,3000])  # initial values of the parameters\n",
    "\n",
    "# the functin has to to accept the entire T array\n",
    "resistivity_wrapper = np.vectorize(resistivity_fit)\n",
    "\n",
    "popt, pcov = curve_fit(resistivity_wrapper, exp_temp, exp_rho, p0)\n",
    "\n",
    "print(\"Best fitted parameters; \\u03F4_D :{} K \\t \\u03C1_0 :{} \\u03A9-cm \\t \\u03B1 :{} \\u03A9-cm \\t \\u03B2 :{} \\u03A9-cm/K^2 \\t \\u0394 :{} K\".format(popt[0],popt[1],popt[2],popt[3],popt[4]))\n"
   ]
  },
  {
   "cell_type": "markdown",
   "id": "indian-calgary",
   "metadata": {},
   "source": [
    "#### Visualizing the experimental and fitted curve"
   ]
  },
  {
   "cell_type": "code",
   "execution_count": 91,
   "id": "elegant-folks",
   "metadata": {},
   "outputs": [
    {
     "data": {
      "text/plain": [
       "<matplotlib.legend.Legend at 0x20d19fbc460>"
      ]
     },
     "execution_count": 91,
     "metadata": {},
     "output_type": "execute_result"
    },
    {
     "data": {
      "image/png": "[encoded data removed]",
      "text/plain": [
       "<Figure size 1008x720 with 1 Axes>"
      ]
     },
     "metadata": {
      "needs_background": "light"
     },
     "output_type": "display_data"
    }
   ],
   "source": [
    "plt.figure(figsize=(14,10))\n",
    "plt.plot(exp_temp, exp_rho, 'b-o', label='experimental data')\n",
    "plt.plot(exp_temp, resistivity_wrapper(exp_temp, *popt), 'r-', label='fit', linewidth=3)\n",
    "plt.xlabel('Temperature [K]', fontsize=16)\n",
    "plt.xticks(fontsize=14)\n",
    "plt.ylabel('Resistivity [Ohm-cm]', fontsize=16)\n",
    "plt.yticks(fontsize=14)\n",
    "plt.legend(fontsize=16)"
   ]
  },
  {
   "cell_type": "markdown",
   "id": "equipped-grain",
   "metadata": {},
   "source": [
    "One can get the error for best estimated parameters."
   ]
  },
  {
   "cell_type": "code",
   "execution_count": 63,
   "id": "occupational-baltimore",
   "metadata": {},
   "outputs": [
    {
     "name": "stdout",
     "output_type": "stream",
     "text": [
      "[6.527278056922644, 2.042286084340276e-08, 0.000373164283229884, 3.318652642586509e-09, 1022.2917825393197]\n"
     ]
    }
   ],
   "source": [
    "error=[]\n",
    "for i in range(len(popt)):\n",
    "    try:\n",
    "        error.append(np.sqrt(pcov[i][i]))\n",
    "\n",
    "    except:\n",
    "        error.append(0.00)\n",
    "print(error)  "
   ]
  },
  {
   "cell_type": "markdown",
   "id": "secret-wednesday",
   "metadata": {},
   "source": [
    "The validity of the fit can be examined by plotting the residual. In general, no definite pattern should be observed in the residual plot (that is the plot should look random plot)."
   ]
  },
  {
   "cell_type": "code",
   "execution_count": 64,
   "id": "several-allergy",
   "metadata": {},
   "outputs": [
    {
     "name": "stdout",
     "output_type": "stream",
     "text": [
      "reduced chi square 1.9793691800030904e-09\n"
     ]
    }
   ],
   "source": [
    "residual=[]\n",
    "i=0\n",
    "chi_square=0\n",
    "while (i<len(temp_exp)):\n",
    "    foo = resistivity_fit(exp_temp[i],*popt)\n",
    "    residual.append((exp_rho[i]-foo)/exp_rho[i])\n",
    "    chi_square += np.power(exp_rho[i]-foo,2)/foo\n",
    "    i += 1\n",
    "    \n",
    "dof =  3.0 #4 parameters, so 3 degrees of freedom\n",
    "chi_square = chi_square/dof\n",
    "\n",
    "#print fity\n",
    "print ('reduced chi square {0}'.format(chi_square))    "
   ]
  },
  {
   "cell_type": "code",
   "execution_count": 94,
   "id": "completed-springer",
   "metadata": {},
   "outputs": [
    {
     "data": {
      "text/plain": [
       "<matplotlib.legend.Legend at 0x20d1a692190>"
      ]
     },
     "execution_count": 94,
     "metadata": {},
     "output_type": "execute_result"
    },
    {
     "data": {
      "image/png": "[encoded data removed]",
      "text/plain": [
       "<Figure size 864x576 with 1 Axes>"
      ]
     },
     "metadata": {
      "needs_background": "light"
     },
     "output_type": "display_data"
    }
   ],
   "source": [
    "plt.figure(figsize=(12,8))\n",
    "plt.plot(exp_temp,residual, '+', label='residual (frac)')\n",
    "plt.xlabel('Temperature [K]', fontsize = 16)\n",
    "plt.xticks(fontsize=14)\n",
    "plt.ylabel('Residual]', fontsize=16)\n",
    "plt.yticks(fontsize=14)\n",
    "plt.legend(loc='best', fontsize=16)"
   ]
  },
  {
   "cell_type": "markdown",
   "id": "coastal-struggle",
   "metadata": {},
   "source": [
    "One can create the fitted data and save it so that any other software can be used for plotting."
   ]
  },
  {
   "cell_type": "code",
   "execution_count": 82,
   "id": "behavioral-platinum",
   "metadata": {},
   "outputs": [],
   "source": [
    "#construct the temperature data\n",
    "temp = np.linspace(temp_exp.min(), temp_exp.max(), 100)\n",
    "\n",
    "fitx=[]\n",
    "fity=[]\n",
    "resid=[]\n",
    "i=0\n",
    "while (i<80):\n",
    "    fitx.append(temp[i])\n",
    "    fity.append(resistivity_fit(temp[i],*popt))\n",
    "    i += 1\n",
    "\n",
    "# adding to the original dataframe\n",
    "df['fitx'] = pd.Series(np.array(fitx))\n",
    "df['fity'] = pd.Series(np.array(fity))\n",
    "df['Residual']= pd.Series(np.array(residual))\n",
    "outfile = os.path.join(file_path, file_name.strip('.xlsx'))  # remove the file type extension\n",
    "df.to_csv(outfile+'fitted.csv', sep=',')"
   ]
  },
  {
   "cell_type": "code",
   "execution_count": null,
   "id": "equal-source",
   "metadata": {},
   "outputs": [],
   "source": []
  }
 ],
 "metadata": {
  "kernelspec": {
   "display_name": "python38",
   "language": "python",
   "name": "python38"
  },
  "language_info": {
   "codemirror_mode": {
    "name": "ipython",
    "version": 3
   },
   "file_extension": ".py",
   "mimetype": "text/x-python",
   "name": "python",
   "nbconvert_exporter": "python",
   "pygments_lexer": "ipython3",
   "version": "3.8.8"
  }
 },
 "nbformat": 4,
 "nbformat_minor": 5
}
