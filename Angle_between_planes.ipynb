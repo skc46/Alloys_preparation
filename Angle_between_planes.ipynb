{
 "cells": [
  {
   "cell_type": "markdown",
   "id": "prescribed-nitrogen",
   "metadata": {},
   "source": [
    "# Find angle between the planes"
   ]
  },
  {
   "cell_type": "markdown",
   "id": "fifteen-liquid",
   "metadata": {},
   "source": [
    "The $\\phi$ scan is an XRD based technique to study the epitaxial growth of the thin films deposited on the substrates. In $\\phi$ scan, the sample is rotated full 360$^{\\circ}$, which is also useful in understanding the crystal symmetry of the grown films. In order to acquire the $\\phi$ scan, however, the sample must be tilted (by an angle $\\psi$) to an off-axis plane and the detector must be set at an angle such that Bragg condition is met for the plane.  \n",
    "\n",
    "To tilt the sample, one needs to find the angle between the planes (initially oriented plane and the off-axis plane) and also the Bragg's angle for the second plane. Below we describe how to obtain these angles and the codes provided below makes the calculation much easier.\n",
    "\n",
    "The angle $\\psi$ between $(h_1, k_1, l_1)$ and $(h_2, k_2, l_2)$ planes can be found for various crystal structures as follows.\n",
    "\n",
    "For cubic system; \n",
    "$$cos\\psi = \\frac{h_1h_2 + k_1k_2 + l_1l_2}{\\sqrt{(h_1^2 + k_1^2 + l_1^2)(h_2^2 + k_2^2 +l_2^2)}}\\tag{1}$$\n",
    "\n",
    "Then the angle ($2\\theta$) of the off-axis plane $(h_2, k_2, l_2)$ can be found as; $$\\frac{4sin^2\\theta}{\\lambda^2}= \\frac{h_2^2 + k_2^2 + l_2^2}{a^2}\\tag{2}$$\n",
    "\n",
    "For tetragonal system;\n",
    "$$cos\\psi = \\frac{\\frac{h_1h_2 + k_1k_2}{a^2} + \\frac{l_1l_2}{c^2}}{\\sqrt{(\\frac{h_1^2 + k_1^2}{a^2} + \\frac{l_1^2}{c^2})(\\frac{h_2^2 + k_2^2}{a^2} +\\frac{l_2^2}{c^2}})}\\tag{3}$$\n",
    "\n",
    "Off-axis plane angle;$$\\frac{4sin^2\\theta}{\\lambda^2}= \\frac{h_2^2 + k_2^2}{a^2} + \\frac{l_2\n",
    "^2}{a^2}\\tag{4}$$ \n"
   ]
  },
  {
   "cell_type": "markdown",
   "id": "offensive-lewis",
   "metadata": {},
   "source": [
    "##### Enter the miller indices of the two planes, between which you want to find the angle."
   ]
  },
  {
   "cell_type": "code",
   "execution_count": 17,
   "id": "decimal-jefferson",
   "metadata": {},
   "outputs": [],
   "source": [
    "plane1 = [2,0,0]  # h1,k1,l1 \n",
    "plane2=[0,0,1]    # h2,k2,l2"
   ]
  },
  {
   "cell_type": "code",
   "execution_count": 18,
   "id": "sticky-place",
   "metadata": {},
   "outputs": [],
   "source": [
    "import numpy as np\n",
    "\n",
    "# finding square and the product between two planes indices\n",
    "plane1_sq=[]   # h1^2, k1^2, l1^2\n",
    "plane2_sq=[]  # h2^2, k2^2, l2^2\n",
    "plane12 =[]  # h1h2, k1k2, l1l2\n",
    "for i in range(len(plane1)):\n",
    "    x = plane1[i]*plane1[i]\n",
    "    y = plane2[i]*plane2[i]\n",
    "    z = plane1[i]*plane2[i]\n",
    "    plane1_sq.append(x)\n",
    "    plane2_sq.append(y)\n",
    "    plane12.append(z)   "
   ]
  },
  {
   "cell_type": "markdown",
   "id": "copyrighted-amber",
   "metadata": {},
   "source": [
    "##### Enter crystal structure, lattice parameters and the wavelength of radiation being used."
   ]
  },
  {
   "cell_type": "code",
   "execution_count": 19,
   "id": "involved-bruce",
   "metadata": {},
   "outputs": [],
   "source": [
    "crystal = 'cubic' # change this to tetragonal if your structure is tetragonal\n",
    "a = 4.5941  # lattice parameter a\n",
    "c = 2.9589  # lattice parameter c\n",
    "# To find 2Theta for desired plane h2,k2,l2\n",
    "wavelength = 1.540589   # this is for Cu radiation"
   ]
  },
  {
   "cell_type": "code",
   "execution_count": 20,
   "id": "optical-metabolism",
   "metadata": {},
   "outputs": [
    {
     "name": "stdout",
     "output_type": "stream",
     "text": [
      "The angle between the planes (i.e., ψ) is 90.00° and the new 2θ is 19.30°.\n"
     ]
    }
   ],
   "source": [
    "if crystal =='cubic':\n",
    "    numerator = plane12[0]+plane12[1]+plane12[2] # numerator of equation (1)\n",
    "    denominator = np.sqrt((plane1_sq[0]+plane1_sq[1]+plane1_sq[2])*(plane2_sq[0]+plane2_sq[1]+plane2_sq[2])) # denominator of equation (1)\n",
    "    psi_rad = np.arccos(numerator/denominator)\n",
    "    psi_degree = np.degrees(psi_rad)\n",
    "    \n",
    "    # To find the 2Theta angle\n",
    "    sin_sq = (np.power(wavelength,2)/4)*((plane2_sq[0]+plane2_sq[1]+plane2_sq[2])/np.power(a,2))\n",
    "    theta_rad = np.arcsin(np.sqrt(sin_sq))\n",
    "    twoT = 2*np.degrees(theta_rad) \n",
    "    print(\"The angle between the planes (i.e., \\u03C8) is {:.2f}\\u00B0 and the new 2\\u03B8 is {:.2f}\\u00B0.\".format(psi_degree,twoT))\n",
    "    \n",
    "elif crystal =='tetragonal':    \n",
    "    numerator = ((plane12[0]+plane12[1])/np.power(a,2)) + (plane12[2]/np.power(c,2))\n",
    "    denominator = np.sqrt((((plane1_sq[0]+plane1_sq[1])/np.power(a,2))+(plane1_sq[2]/np.power(c,2)))*(((plane2_sq[0]+plane2_sq[1])/np.power(a,2))+(plane2_sq[2]/np.power(c,2))))\n",
    "    psi_rad = np.arccos(numerator/denominator)\n",
    "    psi_degree = np.degrees(psi_rad) \n",
    "    # To find 2Theta for desired plane h2,k2,l2\n",
    "    sin_sq = (np.power(lambda_Cu1,2)/4)*(((plane2_sq[0]+plane2_sq[1])/np.power(a,2))+(plane2_sq[2]/np.power(c,2)))\n",
    "    theta_rad = np.arcsin(np.sqrt(sin_sq))\n",
    "    twoT = 2*np.degrees(theta_rad)     \n",
    "    print(\"The angle between the planes (i.e., \\u03C8) is {:.2f}\\u00B0 and the new 2\\u03B8 is {:.2f}\\u00B0.\".format(psi_degree,twoT))"
   ]
  },
  {
   "cell_type": "code",
   "execution_count": null,
   "id": "direct-flush",
   "metadata": {},
   "outputs": [],
   "source": []
  }
 ],
 "metadata": {
  "kernelspec": {
   "display_name": "python38",
   "language": "python",
   "name": "python38"
  },
  "language_info": {
   "codemirror_mode": {
    "name": "ipython",
    "version": 3
   },
   "file_extension": ".py",
   "mimetype": "text/x-python",
   "name": "python",
   "nbconvert_exporter": "python",
   "pygments_lexer": "ipython3",
   "version": "3.8.8"
  }
 },
 "nbformat": 4,
 "nbformat_minor": 5
}
