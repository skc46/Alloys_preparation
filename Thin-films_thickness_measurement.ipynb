{
 "cells": [
  {
   "cell_type": "markdown",
   "id": "coral-consortium",
   "metadata": {},
   "source": [
    "# Finding thickness of the thin-films\n",
    "\n",
    "Measuring the thickness of the thin-film is a very challenging task. X-ray reflectivity (XRR) is one of the most popular ways of measuring films thicknesses in the range 5 - 100 nm. In XRR, the X-rays are incident on the sample at very low angles, and when the angle of incidence exceeds the critical angle ($\\theta_c$), some of the X-rays penetrate into the sample. These penetrated X-rays are reflected back at the interface between the film and the substrate, which then interfere with the X-rays reflected from the film surface, resulting in angle dependent periodic fringe pattern (called Kiessig fringes) proportional to the thickness of the film. Hence from the measurement of width of the fringes, one can estimate the film thickness. The XRR is also useful in understanding the surface/ interface roughness, since the surface roughness decreases the reflected intensity causing the non-specular reflection. \n",
    "\n",
    "There are several commercially available software that can help fitting the XRR pattern and estimate the film thickness. One such software that is based on differential evolution algorithm is GenX [[Link]](http://scripts.iucr.org/cgi-bin/paper?S0021889807045086). However, it takes a while to get acquinted with the software and to generate a sensible fit to the experimental data. In this notebook, we show two alternative approaches that one can employ to get a quick insight about the film thickness.\n",
    "\n",
    "#### Method 1:\n",
    "\n",
    "For a film with thickness t, the $m^{th}$ interference maximum is obtained at; $$\\theta_m^2 = (\\frac{m\\lambda}{2t})^2 + \\theta_c^2 \\tag{1}$$\n",
    "where $\\theta_c = \\sqrt{\\frac{\\lambda^2SLD}{\\pi}}$ is the critical angle (depends on the film material) and $\\lambda$ is wavelength of X-ray radiation. To find the scattering length density (SLD) for a material, one can use the NIST SLD calculator [[Link]](https://www.ncnr.nist.gov/resources/activation/).\n",
    "With the experimentally measured values of peak positions and the orders of peaks, one can solve equation (1) and extract the film thickness.\n",
    "\n",
    "#### Method 2:\n",
    "\n",
    "For small $\\theta$ (which gives larger d spacing), one can utilize the usual Bragg equation to estimate the film thickness;\n",
    "$$ m\\lambda = 2tsin\\theta_m \\tag{2}$$\n",
    "\n",
    "The Bragg method does not account for the influence of refractive index of the material on the refracted X-rays, hence if there are only few fringes and only upto a few degrees, this method does not produce a more accurate estimate of film thickness. The estimated thickness of the two methods will be closer if the fringes are obtained upto higher angles (6-7 $^{\\circ}$). Hence, in case the two thickness differ significanlty, it is recommended to choose `method 1` over `method 2`.\n"
   ]
  },
  {
   "cell_type": "markdown",
   "id": "italian-resident",
   "metadata": {},
   "source": [
    "##### Enter the peak positions, the order of the peaks, and the wavelength of the X-ray radiation."
   ]
  },
  {
   "cell_type": "code",
   "execution_count": 24,
   "id": "phantom-greece",
   "metadata": {},
   "outputs": [],
   "source": [
    "twoT = [1.0246,1.3601,1.7163,2.0725,2.3996,2.8065,3.2264,3.6595,4.1047,4.5588,5.0386]   # fill up the maxima positions 2theta\n",
    "nlis=[1,2,3,4,5,6,7,8,9,10,11]     # order of maxima\n",
    "\n",
    "assert len(twoT) == len(nlis), \"the no. of peak positions must match the order of peak\"\n",
    "wavelength = 1.540589   # this is for Cu radiation"
   ]
  },
  {
   "cell_type": "markdown",
   "id": "medium-server",
   "metadata": {},
   "source": [
    "#### Find SLD as above and use it to find $\\theta_c$"
   ]
  },
  {
   "cell_type": "code",
   "execution_count": 81,
   "id": "economic-links",
   "metadata": {},
   "outputs": [
    {
     "data": {
      "text/plain": [
       "0.006801998610017883"
      ]
     },
     "execution_count": 81,
     "metadata": {},
     "output_type": "execute_result"
    }
   ],
   "source": [
    "sld = 61.242e-6\n",
    "theta_c = np.sqrt((np.power(wavelength,2)*sld)/np.pi)\n",
    "theta_c"
   ]
  },
  {
   "cell_type": "code",
   "execution_count": 88,
   "id": "geological-format",
   "metadata": {},
   "outputs": [],
   "source": [
    "import numpy as np\n",
    "xlis =[]\n",
    "x_quad_lis=[]\n",
    "yerr_quad_lis=[]\n",
    "y_quad_lis=[]\n",
    "thickness_lis=[]\n",
    "thickness1_lis=[]\n",
    "for i in range(len(twoT)):\n",
    "    x = (2*np.sin(np.radians(twoT[i]/2)))  # For method 2\n",
    "    xlis.append(x)\n",
    "    x_quad = (np.power(nlis[i],2))/4   # For method 1\n",
    "    x_quad_lis.append(x_quad)\n",
    "    y_quad = np.power(np.radians(twoT[i]/2),2)- np.power(theta_c,2)\n",
    "    y_quad_lis.append(y_quad)\n",
    "    yerr_quad = nlis[i]*.05*y_quad    # adding error in the angle measurement\n",
    "    yerr_quad_lis.append(yerr_quad)\n",
    "    \n",
    "arrayx=np.array(xlis)\n",
    "arrayn = np.array(nlis)\n",
    "arrayx_quad =np.array(x_quad_lis)\n",
    "arrayy_quad=np.array(y_quad_lis)    "
   ]
  },
  {
   "cell_type": "markdown",
   "id": "proper-concrete",
   "metadata": {},
   "source": [
    "### Method 1"
   ]
  },
  {
   "cell_type": "code",
   "execution_count": 85,
   "id": "gentle-merit",
   "metadata": {},
   "outputs": [
    {
     "name": "stdout",
     "output_type": "stream",
     "text": [
      "Thickness of the film using Method 1: 19.78 ± 0.09 nm\n"
     ]
    }
   ],
   "source": [
    "from scipy.optimize import curve_fit\n",
    "def method1_fit(x, *p):\n",
    "    slope_, intercept_ = p\n",
    "    return 1.0/(1.0/(slope_*x -intercept_))\n",
    "\n",
    "p0 = np.array([200, 0.006])  # initial value of thickness and critical angle\n",
    "\n",
    "fit_wrapper = np.vectorize(method1_fit)\n",
    "\n",
    "popt, pcov = curve_fit(fit_wrapper, arrayx_quad, arrayy_quad, p0)\n",
    "\n",
    "thickness = (wavelength/np.sqrt(popt[0]))/10              # thickness in nm\n",
    "thickness_err = (np.sqrt(np.diag(pcov)[0])*thickness)/(2*popt[0])  # finding error\n",
    "print(\"Thickness of the film using Method 1: {:.2f} \\u00B1 {:.2f} nm\".format(thickness, thickness_err))\n"
   ]
  },
  {
   "cell_type": "markdown",
   "id": "equivalent-track",
   "metadata": {},
   "source": [
    "### Method 2"
   ]
  },
  {
   "cell_type": "code",
   "execution_count": 103,
   "id": "blocked-crazy",
   "metadata": {},
   "outputs": [
    {
     "name": "stdout",
     "output_type": "stream",
     "text": [
      "Thickness of the film using Method 2: 22.06 ± 0.41 nm\n"
     ]
    }
   ],
   "source": [
    "slope,cov = np.polyfit(arrayn,arrayx,1, cov=True)   # fitting equation (2)\n",
    "thickness_bragg = (wavelength/slope[0])/10\n",
    "thickness_err_bragg = (np.sqrt(np.diag(cov)[0])*thickness)/(slope[0])\n",
    "print(\"Thickness of the film using Method 2: {:.2f} \\u00B1 {:.2f} nm\".format(thickness_bragg, thickness_err_bragg))"
   ]
  },
  {
   "cell_type": "markdown",
   "id": "coordinated-collaboration",
   "metadata": {},
   "source": [
    "#### Visualizing the data and the fit results"
   ]
  },
  {
   "cell_type": "code",
   "execution_count": 80,
   "id": "greatest-basement",
   "metadata": {},
   "outputs": [
    {
     "data": {
      "text/plain": [
       "Text(0.5, 1.0, 'Method 1')"
      ]
     },
     "execution_count": 80,
     "metadata": {},
     "output_type": "execute_result"
    },
    {
     "data": {
      "image/png": "[encoded data removed]",
      "text/plain": [
       "<Figure size 432x288 with 1 Axes>"
      ]
     },
     "metadata": {
      "needs_background": "light"
     },
     "output_type": "display_data"
    }
   ],
   "source": [
    "import matplotlib.pyplot as plt\n",
    "plt.scatter(arrayx_quad,arrayy_quad, color='red', label=\"Experimental\")\n",
    "plt.plot(arrayx_quad,(popt[0]*arrayx_quad-popt[1]), color='blue', label='Fitted' )\n",
    "plt.legend(fontsize=14)\n",
    "plt.ylabel(r'$\\theta_m^2$', fontsize=14)\n",
    "plt.xlabel(r'$m^2$', fontsize=14)\n",
    "plt.title('Method 1', fontsize = 14)"
   ]
  },
  {
   "cell_type": "code",
   "execution_count": 100,
   "id": "educated-catch",
   "metadata": {},
   "outputs": [
    {
     "data": {
      "text/plain": [
       "Text(0.5, 1.0, 'Method 2')"
      ]
     },
     "execution_count": 100,
     "metadata": {},
     "output_type": "execute_result"
    },
    {
     "data": {
      "image/png": "[encoded data removed]",
      "text/plain": [
       "<Figure size 432x288 with 1 Axes>"
      ]
     },
     "metadata": {
      "needs_background": "light"
     },
     "output_type": "display_data"
    }
   ],
   "source": [
    "import matplotlib.pyplot as plt\n",
    "plt.scatter(arrayn,arrayx ,color='red', label=\"Experimental\")\n",
    "plt.plot(arrayn,(slope[0]*arrayn)+slope[1], color='blue', label='Fitted' )\n",
    "plt.legend(fontsize=14)\n",
    "plt.ylabel(r'$2sin\\theta_m$', fontsize=14)\n",
    "plt.xlabel(r'm', fontsize=14)\n",
    "plt.title('Method 2', fontsize = 14)"
   ]
  },
  {
   "cell_type": "markdown",
   "id": "thousand-cloud",
   "metadata": {},
   "source": [
    "The thicknesses predicted by the two methods differ by 2 nm. Hence, it is reasonable to believe that the true film thickness is around 20 nm. Form the visualization of fits on the experimental data, one can observe that method 1 fits slightly better than the method 2. Hence, the thickness estimated by method 1 should be closer to the actual thickness, which was infact the case as the GenX fitting also yielded a thickness of 19.50 nm for this film."
   ]
  },
  {
   "cell_type": "code",
   "execution_count": null,
   "id": "split-needle",
   "metadata": {},
   "outputs": [],
   "source": []
  }
 ],
 "metadata": {
  "kernelspec": {
   "display_name": "python38",
   "language": "python",
   "name": "python38"
  },
  "language_info": {
   "codemirror_mode": {
    "name": "ipython",
    "version": 3
   },
   "file_extension": ".py",
   "mimetype": "text/x-python",
   "name": "python",
   "nbconvert_exporter": "python",
   "pygments_lexer": "ipython3",
   "version": "3.8.8"
  }
 },
 "nbformat": 4,
 "nbformat_minor": 5
}
