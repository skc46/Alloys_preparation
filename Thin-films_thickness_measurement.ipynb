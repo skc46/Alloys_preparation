{
 "cells": [
  {
   "cell_type": "markdown",
   "id": "overhead-rotation",
   "metadata": {},
   "source": [
    "# Finding thickness of the thin-films\n",
    "\n",
    "Measuring the thickness of the thin-film is a very challenging task. X-ray reflectivity (XRR) is one of the most popular ways of measuring films thicknesses in the range 5 - 100 nm. In XRR, the X-rays are incident on the sample at very low angles, and when the angle of incidence exceeds the critical angle ($\\theta_c$), some of the X-rays penetrate into the sample. These penetrated X-rays are reflected back at the interface between the film and the substrate, which then interfere with the X-rays reflected from the film surface, resulting in angle dependent periodic fringe pattern (called Kiessig fringes) proportional to the thickness of the film. Hence from the measurement of width of the fringes, one can estimate the film thickness. The XRR is also useful in understanding the surface/ interface roughness, since the surface roughness decreases the reflected intensity causing the non-specular reflection. \n",
    "\n",
    "There are several commercially available software that can help fitting the XRR pattern and estimate the film thickness. One such software that is based on differential evolution algorithm is GenX [[Link]](http://scripts.iucr.org/cgi-bin/paper?S0021889807045086). However, it takes a while to get acquinted with the software and to generate a sensible fit to the experimental data. In this notebook, we show two alternative approaches that one can employ to get a quick insight about the film thickness.\n",
    "\n",
    "#### Method 1:\n",
    "\n",
    "For a film with thickness t, the $m^{th}$ interference maximum is obtained at; $$\\theta_m^2 = (\\frac{m\\lambda}{2t})^2 + \\theta_c^2 \\tag{1}$$\n",
    "where $\\theta_c$ is the critical angle (depends on the film material) and $\\lambda$ is wavelength of X-ray radiation. With the experimentally measured values of peak positions and the orders of peaks, one can solve equation (1) and extract the film thickness.\n",
    "\n",
    "#### Method 2:\n",
    "\n",
    "For small $\\theta$ (which gives larger d spacing), one can utilize the usual Bragg equation to estimate the film thickness;\n",
    "$$ m\\lambda = 2tsin\\theta_m \\tag{2}$$\n",
    "\n",
    "The Bragg method does not account for the influence of refractive index of the material on the refracted X-rays, hence if there are only few fringes and only upto a few degrees, this method does not produce a more accurate estimate of film thickness. The estimated thickness of the two methods will be closer if the fringes are obtained upto higher angles (6-7 $^{\\circ}$). Hence, in case the two thickness differ significanlty, it is recommended to choose `method 1` over `method 2`.\n"
   ]
  },
  {
   "cell_type": "markdown",
   "id": "prepared-costa",
   "metadata": {},
   "source": [
    "##### Enter the peak positions, the order of the peaks, and the wavelength of the X-ray radiation."
   ]
  },
  {
   "cell_type": "code",
   "execution_count": 24,
   "id": "indoor-spending",
   "metadata": {},
   "outputs": [],
   "source": [
    "twoT = [1.0246,1.3601,1.7163,2.0725,2.3996,2.8065,3.2264,3.6595,4.1047,4.5588,5.0386]   # fill up the maxima positions 2theta\n",
    "nlis=[1,2,3,4,5,6,7,8,9,10,11]     # order of maxima\n",
    "\n",
    "assert len(twoT) == len(nlis), \"the no. of peak positions must match the order of peak\"\n",
    "wavelength = 1.540589   # this is for Cu radiation"
   ]
  },
  {
   "cell_type": "code",
   "execution_count": 30,
   "id": "correct-garlic",
   "metadata": {},
   "outputs": [
    {
     "name": "stdout",
     "output_type": "stream",
     "text": [
      "Best fitted thickness\n",
      "From Method 1: 19.78 nm \t From Method 2: 21.98 nm\n"
     ]
    }
   ],
   "source": [
    "import numpy as np\n",
    "xlis =[]\n",
    "x_quad_lis=[]\n",
    "yerr_quad_lis=[]\n",
    "y_quad_lis=[]\n",
    "thickness_lis=[]\n",
    "thickness1_lis=[]\n",
    "for i in range(len(twoT)):\n",
    "    x = (2*np.sin(np.radians(twoT[i]/2))/wavelength)  # For method 2\n",
    "    xlis.append(x)\n",
    "    x_quad = (np.power(nlis[i],2)*np.power(wavelength,2))/4   # For method 1\n",
    "    x_quad_lis.append(x_quad)\n",
    "    y_quad = np.power(np.radians(twoT[i]/2),2)\n",
    "    y_quad_lis.append(y_quad)\n",
    "    yerr_quad = nlis[i]*.05*y_quad    # adding error in the angle measurement\n",
    "    yerr_quad_lis.append(yerr_quad)\n",
    "    \n",
    "    \n",
    "arrayx=np.array(xlis)\n",
    "arrayn = np.array(nlis)\n",
    "arrayx_quad =np.array(x_quad_lis)\n",
    "arrayy_quad=np.array(y_quad_lis)\n",
    "m_h,b_h = np.polyfit(arrayx,arrayn,1)   # fitting equation (2)\n",
    "m_h1,b_h1=np.polyfit(arrayx_quad,arrayy_quad,1)  # fitting equation (1)\n",
    "slope = 1/np.sqrt(m_h1)\n",
    "print('Best fitted thickness')\n",
    "print(\"From Method 1: {:.2f} nm \\t From Method 2: {:.2f} nm\".format(slope/10,m_h/10))"
   ]
  },
  {
   "cell_type": "code",
   "execution_count": null,
   "id": "convenient-southeast",
   "metadata": {},
   "outputs": [],
   "source": []
  }
 ],
 "metadata": {
  "kernelspec": {
   "display_name": "python38",
   "language": "python",
   "name": "python38"
  },
  "language_info": {
   "codemirror_mode": {
    "name": "ipython",
    "version": 3
   },
   "file_extension": ".py",
   "mimetype": "text/x-python",
   "name": "python",
   "nbconvert_exporter": "python",
   "pygments_lexer": "ipython3",
   "version": "3.8.8"
  }
 },
 "nbformat": 4,
 "nbformat_minor": 5
}
