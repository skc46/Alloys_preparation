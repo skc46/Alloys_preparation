{
  "nbformat": 4,
  "nbformat_minor": 5,
  "metadata": {
    "kernelspec": {
      "display_name": "python38",
      "language": "python",
      "name": "python38"
    },
    "language_info": {
      "codemirror_mode": {
        "name": "ipython",
        "version": 3
      },
      "file_extension": ".py",
      "mimetype": "text/x-python",
      "name": "python",
      "nbconvert_exporter": "python",
      "pygments_lexer": "ipython3",
      "version": "3.8.8"
    },
    "colab": {
      "name": "Convert emu per gm into Bohr magneton.ipynb",
      "provenance": [],
      "include_colab_link": true
    }
  },
  "cells": [
    {
      "cell_type": "markdown",
      "metadata": {
        "id": "view-in-github",
        "colab_type": "text"
      },
      "source": [
        "<a href=\"https://colab.research.google.com/github/skc46/Magnetic_material_science_research_related/blob/master/Convert%20emu%20per%20gm%20into%20Bohr%20magneton.ipynb\" target=\"_parent\"><img src=\"https://colab.research.google.com/assets/colab-badge.svg\" alt=\"Open In Colab\"/></a>"
      ]
    },
    {
      "cell_type": "markdown",
      "metadata": {
        "id": "located-dinner"
      },
      "source": [
        "# Converting emu/gm into $\\mu_B/f.u.$\n",
        "\n",
        "Based on the constituent elements and the their atomic fraction in the formual unit, this notebook helps converting experimentally measured emu/gm into $\\mu_B/f.u.$. \n",
        "\n",
        "The basic idea can be explained as follows;\n",
        "\n",
        "Measured magnetization: $M (in\\ emu/gm)$\n",
        "\n",
        "Molecular weight: $mol-Wt (in\\ gm)$\n",
        "\n",
        "Bohr magneton: $\\mu_B = 9.274 \\times 10^{-24} J/T$\n",
        "\n",
        "Avogadro constant: $ N_A = 6.022 \\times 10^{23} mol^{-1}$\n",
        "\n",
        "Conversion factor: $ 1 emu = 10^{-3} J/T$\n",
        "\n",
        "Magnetic moment per formula unit (i.e., $\\mu_B/f.u.$) in Bohr magnetons; $$ \\mu_{f.u.}(\\mu_B) = \\frac{M \\times mol-Wt.}{9.274 \\times 10^{-24} \\times 6.022 \\times 10^{23}} \\times 10^{-3} $$\n",
        "\n",
        "Hence we need to find the molecular weight that depends on the type of alloy and its constitutent elements. To get that we can use the same idea as in `bulk_sample_wt_cal` notebook, where we first select the desired elements (these can be given by keyboard inputs).\n",
        "\n"
      ],
      "id": "located-dinner"
    },
    {
      "cell_type": "markdown",
      "metadata": {
        "id": "opposed-beauty"
      },
      "source": [
        "***Getting data:*** We use the periodic table from Github page uploaded by Goodman Sciences [[link]](https://gist.github.com/GoodmanSciences/c2dd862cd38f21b0ad36b8f96b4bf1ee/). We direclty import the data and read this as pandas dataframe."
      ],
      "id": "opposed-beauty"
    },
    {
      "cell_type": "code",
      "metadata": {
        "colab": {
          "base_uri": "https://localhost:8080/",
          "height": 296
        },
        "id": "cooked-tourism",
        "outputId": "6cd738c4-95fd-4a73-c726-a7e6044b6e73"
      },
      "source": [
        "path = \"https://gist.github.com/GoodmanSciences/c2dd862cd38f21b0ad36b8f96b4bf1ee/raw/1d92663004489a5b6926e944c1b3d9ec5c40900e/Periodic%2520Table%2520of%2520Elements.csv\"\n",
        "import pandas as pd\n",
        "df = pd.read_csv(path)\n",
        "df.head()"
      ],
      "id": "cooked-tourism",
      "execution_count": 1,
      "outputs": [
        {
          "output_type": "execute_result",
          "data": {
            "text/html": [
              "<div>\n",
              "<style scoped>\n",
              "    .dataframe tbody tr th:only-of-type {\n",
              "        vertical-align: middle;\n",
              "    }\n",
              "\n",
              "    .dataframe tbody tr th {\n",
              "        vertical-align: top;\n",
              "    }\n",
              "\n",
              "    .dataframe thead th {\n",
              "        text-align: right;\n",
              "    }\n",
              "</style>\n",
              "<table border=\"1\" class=\"dataframe\">\n",
              "  <thead>\n",
              "    <tr style=\"text-align: right;\">\n",
              "      <th></th>\n",
              "      <th>AtomicNumber</th>\n",
              "      <th>Element</th>\n",
              "      <th>Symbol</th>\n",
              "      <th>AtomicMass</th>\n",
              "      <th>NumberofNeutrons</th>\n",
              "      <th>NumberofProtons</th>\n",
              "      <th>NumberofElectrons</th>\n",
              "      <th>Period</th>\n",
              "      <th>Group</th>\n",
              "      <th>Phase</th>\n",
              "      <th>Radioactive</th>\n",
              "      <th>Natural</th>\n",
              "      <th>Metal</th>\n",
              "      <th>Nonmetal</th>\n",
              "      <th>Metalloid</th>\n",
              "      <th>Type</th>\n",
              "      <th>AtomicRadius</th>\n",
              "      <th>Electronegativity</th>\n",
              "      <th>FirstIonization</th>\n",
              "      <th>Density</th>\n",
              "      <th>MeltingPoint</th>\n",
              "      <th>BoilingPoint</th>\n",
              "      <th>NumberOfIsotopes</th>\n",
              "      <th>Discoverer</th>\n",
              "      <th>Year</th>\n",
              "      <th>SpecificHeat</th>\n",
              "      <th>NumberofShells</th>\n",
              "      <th>NumberofValence</th>\n",
              "    </tr>\n",
              "  </thead>\n",
              "  <tbody>\n",
              "    <tr>\n",
              "      <th>0</th>\n",
              "      <td>1</td>\n",
              "      <td>Hydrogen</td>\n",
              "      <td>H</td>\n",
              "      <td>1.007</td>\n",
              "      <td>0</td>\n",
              "      <td>1</td>\n",
              "      <td>1</td>\n",
              "      <td>1</td>\n",
              "      <td>1.0</td>\n",
              "      <td>gas</td>\n",
              "      <td>NaN</td>\n",
              "      <td>yes</td>\n",
              "      <td>NaN</td>\n",
              "      <td>yes</td>\n",
              "      <td>NaN</td>\n",
              "      <td>Nonmetal</td>\n",
              "      <td>0.79</td>\n",
              "      <td>2.20</td>\n",
              "      <td>13.5984</td>\n",
              "      <td>0.000090</td>\n",
              "      <td>14.175</td>\n",
              "      <td>20.28</td>\n",
              "      <td>3.0</td>\n",
              "      <td>Cavendish</td>\n",
              "      <td>1766.0</td>\n",
              "      <td>14.304</td>\n",
              "      <td>1</td>\n",
              "      <td>1.0</td>\n",
              "    </tr>\n",
              "    <tr>\n",
              "      <th>1</th>\n",
              "      <td>2</td>\n",
              "      <td>Helium</td>\n",
              "      <td>He</td>\n",
              "      <td>4.002</td>\n",
              "      <td>2</td>\n",
              "      <td>2</td>\n",
              "      <td>2</td>\n",
              "      <td>1</td>\n",
              "      <td>18.0</td>\n",
              "      <td>gas</td>\n",
              "      <td>NaN</td>\n",
              "      <td>yes</td>\n",
              "      <td>NaN</td>\n",
              "      <td>yes</td>\n",
              "      <td>NaN</td>\n",
              "      <td>Noble Gas</td>\n",
              "      <td>0.49</td>\n",
              "      <td>NaN</td>\n",
              "      <td>24.5874</td>\n",
              "      <td>0.000179</td>\n",
              "      <td>NaN</td>\n",
              "      <td>4.22</td>\n",
              "      <td>5.0</td>\n",
              "      <td>Janssen</td>\n",
              "      <td>1868.0</td>\n",
              "      <td>5.193</td>\n",
              "      <td>1</td>\n",
              "      <td>NaN</td>\n",
              "    </tr>\n",
              "    <tr>\n",
              "      <th>2</th>\n",
              "      <td>3</td>\n",
              "      <td>Lithium</td>\n",
              "      <td>Li</td>\n",
              "      <td>6.941</td>\n",
              "      <td>4</td>\n",
              "      <td>3</td>\n",
              "      <td>3</td>\n",
              "      <td>2</td>\n",
              "      <td>1.0</td>\n",
              "      <td>solid</td>\n",
              "      <td>NaN</td>\n",
              "      <td>yes</td>\n",
              "      <td>yes</td>\n",
              "      <td>NaN</td>\n",
              "      <td>NaN</td>\n",
              "      <td>Alkali Metal</td>\n",
              "      <td>2.10</td>\n",
              "      <td>0.98</td>\n",
              "      <td>5.3917</td>\n",
              "      <td>0.534000</td>\n",
              "      <td>453.850</td>\n",
              "      <td>1615.00</td>\n",
              "      <td>5.0</td>\n",
              "      <td>Arfvedson</td>\n",
              "      <td>1817.0</td>\n",
              "      <td>3.582</td>\n",
              "      <td>2</td>\n",
              "      <td>1.0</td>\n",
              "    </tr>\n",
              "    <tr>\n",
              "      <th>3</th>\n",
              "      <td>4</td>\n",
              "      <td>Beryllium</td>\n",
              "      <td>Be</td>\n",
              "      <td>9.012</td>\n",
              "      <td>5</td>\n",
              "      <td>4</td>\n",
              "      <td>4</td>\n",
              "      <td>2</td>\n",
              "      <td>2.0</td>\n",
              "      <td>solid</td>\n",
              "      <td>NaN</td>\n",
              "      <td>yes</td>\n",
              "      <td>yes</td>\n",
              "      <td>NaN</td>\n",
              "      <td>NaN</td>\n",
              "      <td>Alkaline Earth Metal</td>\n",
              "      <td>1.40</td>\n",
              "      <td>1.57</td>\n",
              "      <td>9.3227</td>\n",
              "      <td>1.850000</td>\n",
              "      <td>1560.150</td>\n",
              "      <td>2742.00</td>\n",
              "      <td>6.0</td>\n",
              "      <td>Vaulquelin</td>\n",
              "      <td>1798.0</td>\n",
              "      <td>1.825</td>\n",
              "      <td>2</td>\n",
              "      <td>2.0</td>\n",
              "    </tr>\n",
              "    <tr>\n",
              "      <th>4</th>\n",
              "      <td>5</td>\n",
              "      <td>Boron</td>\n",
              "      <td>B</td>\n",
              "      <td>10.811</td>\n",
              "      <td>6</td>\n",
              "      <td>5</td>\n",
              "      <td>5</td>\n",
              "      <td>2</td>\n",
              "      <td>13.0</td>\n",
              "      <td>solid</td>\n",
              "      <td>NaN</td>\n",
              "      <td>yes</td>\n",
              "      <td>NaN</td>\n",
              "      <td>NaN</td>\n",
              "      <td>yes</td>\n",
              "      <td>Metalloid</td>\n",
              "      <td>1.20</td>\n",
              "      <td>2.04</td>\n",
              "      <td>8.2980</td>\n",
              "      <td>2.340000</td>\n",
              "      <td>2573.150</td>\n",
              "      <td>4200.00</td>\n",
              "      <td>6.0</td>\n",
              "      <td>Gay-Lussac</td>\n",
              "      <td>1808.0</td>\n",
              "      <td>1.026</td>\n",
              "      <td>2</td>\n",
              "      <td>3.0</td>\n",
              "    </tr>\n",
              "  </tbody>\n",
              "</table>\n",
              "</div>"
            ],
            "text/plain": [
              "   AtomicNumber    Element  ... NumberofShells  NumberofValence\n",
              "0             1   Hydrogen  ...              1              1.0\n",
              "1             2     Helium  ...              1              NaN\n",
              "2             3    Lithium  ...              2              1.0\n",
              "3             4  Beryllium  ...              2              2.0\n",
              "4             5      Boron  ...              2              3.0\n",
              "\n",
              "[5 rows x 28 columns]"
            ]
          },
          "metadata": {
            "tags": []
          },
          "execution_count": 1
        }
      ]
    },
    {
      "cell_type": "markdown",
      "metadata": {
        "id": "dried-timothy"
      },
      "source": [
        "When entering the symbols of elements, it is a good idea to make it case-insensitive. So, we create a column, where we store the elements symbol in all uppercase."
      ],
      "id": "dried-timothy"
    },
    {
      "cell_type": "code",
      "metadata": {
        "id": "photographic-brunei"
      },
      "source": [
        "df[\"Symbol_upper\"] = df[\"Symbol\"].str.upper()"
      ],
      "id": "photographic-brunei",
      "execution_count": 2,
      "outputs": []
    },
    {
      "cell_type": "markdown",
      "metadata": {
        "id": "pursuant-gamma"
      },
      "source": [
        "The cell below takes the elements name and their respective atomic fractions as keyboard inputs. There is no limit on the number of elements, but to break the process, it is required to enter 0. An example of Co$_2$FeGe is shown."
      ],
      "id": "pursuant-gamma"
    },
    {
      "cell_type": "code",
      "metadata": {
        "colab": {
          "base_uri": "https://localhost:8080/"
        },
        "id": "lyric-satellite",
        "outputId": "702c8b2f-ee94-4c2e-a7d4-833fb527d227"
      },
      "source": [
        "dic1 = {}       #create a dictionary with desired elements\n",
        "tot_weight = 0\n",
        "while True:\n",
        "      element_ = input(\"Enter the name of element, enter 0 to break:\").upper()\n",
        "      if str(element_) == \"0\":\n",
        "          break\n",
        "      fraction_ = float(input(\"Enter the atomic fraction of the element:\"))\n",
        "      dic1[element_] = df.loc[df[\"Symbol_upper\"]==element_,\"AtomicMass\"].item()*fraction_   # atomic wt. of element scaled by their atomic fraction in the alloy\n",
        "      tot_weight = tot_weight + (dic1[element_]) # calculate total weight for the alloy"
      ],
      "id": "lyric-satellite",
      "execution_count": 4,
      "outputs": [
        {
          "output_type": "stream",
          "text": [
            "Enter the name of element, enter 0 to break:co\n",
            "Enter the atomic fraction of the element:2\n",
            "Enter the name of element, enter 0 to break:fe\n",
            "Enter the atomic fraction of the element:1.5\n",
            "Enter the name of element, enter 0 to break:si\n",
            "Enter the atomic fraction of the element:0.5\n",
            "Enter the name of element, enter 0 to break:0\n"
          ],
          "name": "stdout"
        }
      ]
    },
    {
      "cell_type": "markdown",
      "metadata": {
        "id": "certified-saturday"
      },
      "source": [
        "Running the cell below, prompts an input field to enter the emu/gm and outputs $\\mu_B/f.u.$. Just to check for consistency, three differenet methods are utilized."
      ],
      "id": "certified-saturday"
    },
    {
      "cell_type": "code",
      "metadata": {
        "colab": {
          "base_uri": "https://localhost:8080/"
        },
        "id": "little-inflation",
        "outputId": "0f7a3b00-9c07-469e-81b7-cb0873a16ee9"
      },
      "source": [
        "emu_per_gram = float(input(\"Enter emuper_gram:\"))              #exp_emu/samplewt\n",
        "mu_B = ((emu_per_gram*tot_weight)*1e21)/(9.274*6.022*1e23)\n",
        "print(\"The magnetization of given alloy is {}\".format(mu_B), u'\\u03bc_B/f.u.')"
      ],
      "id": "little-inflation",
      "execution_count": 5,
      "outputs": [
        {
          "output_type": "stream",
          "text": [
            "Enter emuper_gram:197.412\n",
            "The magnetization of given alloy is 7.623748007360261 μ_B/f.u.\n"
          ],
          "name": "stdout"
        }
      ]
    },
    {
      "cell_type": "code",
      "metadata": {
        "id": "brief-territory"
      },
      "source": [
        ""
      ],
      "id": "brief-territory",
      "execution_count": null,
      "outputs": []
    }
  ]
}