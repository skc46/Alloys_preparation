{
 "cells": [
  {
   "cell_type": "markdown",
   "id": "associate-dialogue",
   "metadata": {},
   "source": [
    "# Finding true lattice parameter using Cohen method"
   ]
  },
  {
   "cell_type": "markdown",
   "id": "laughing-grade",
   "metadata": {},
   "source": [
    "### In case of Cubic crystal\n",
    "\n",
    "In the experimental X-ray diffraction (XRD) pattern, one obtains a set of peaks corresponding to different cyrstal orientation. Then from the angular position of these peaks, one can estimate the unit cell lattice parameter (a) using equation: $$ \\frac{sin^2\\theta}{(h^2+k^2+l^2)} = \\frac{sin^2\\theta}{s} = \\frac{\\lambda^2}{4a^2} = A (say) \\tag{1}$$  \n",
    "\n",
    "However, since the diffractometer uncertainity depends upon its angular position (diffractometer is generally more accurate at higher angle), the calculated lattice parameter for different peaks yields slightly different value. Then the problem at hand is how to determine the true lattice parameter from the set of values (i.e. $a_i$). To some degree, the averaging may give a decent estimate, but that neglects the fact that the systematic uncertainity of the diffractometer is not constant. The better solution to this issue is to weight $a_i$ more when the diffractor is more accurate.\n",
    "\n",
    "Cohen [[1]](https://doi.org/10.1063/1.1751937) tried to solve this issue by presuming angular-dependent systematic error in $ sin^2\\theta $ values of $ DF(\\theta) $, where $ D $ is a (specimen-dependent) constant and $ F(\\theta) $ is the function describing the systematic error. Cohen's idea was later revised by Nelson-Riley [[2]](https://doi.org/10.1088/0959-5309/57/3/302) with the better error function to determine the precise lattice parameter. The generalized equation can be written as: $$ \\sin^2\\theta = \\frac{\\lambda^2}{4a_0^2}(h^2 + k^2 + l^2) + 2D\\sin^2\\theta[\\frac{\\cos^2\\theta}{\\sin\\theta} + \\frac{\\cos^2\\theta}{\\theta}] \\tag{2}$$\n",
    "         \n",
    "In the RHS of above equation, the terms inside the square bracket defines the error function. $ a_0 $ represents the precise lattice parameter. For each peak, the angle ($ \\theta $) and $ s = (h^2+k^2+l^2) $ will be different, hence we can write the above equation as; $$ \\sin^2\\theta_i = As_i + D\\delta_i \\tag{3}$$        \n",
    "                      \n",
    "                      \n",
    "For convenience, we define; $$ 10{\\sin^22\\theta_i}(\\frac{1}{\\sin\\theta_i} + \\frac{1}{\\theta_i}) = \\delta_i \\tag{4}$$\n",
    "The factor 10 is introduced to make of various terms to have same magnitude.\n",
    "\n",
    "In equation (3), the LHS represents experimentally determined values of $ sin^2\\theta $. The first term in RHS (i.e, $ As $) represents the predicted value based on true lattice parameter and the sum of squares of miller indeces, whereas the last term (i.e., $ D\\delta $) is the error related term. One can generalize equation (3) as the experimentally observed value is equal to the predicted value plus the systematic error term. Then the problem at hand is to find the cofficients of A and D such that it minimizes the sum of squares of difference between observed and predicted values, that is; $$ minimize \\sum \\limits_{i}(\\sin^2\\theta_i - As_i - D\\delta_i)^2 = error $$\n",
    "\n",
    "This can be solved by least square method, which we show below."
   ]
  },
  {
   "cell_type": "code",
   "execution_count": 2,
   "id": "radio-night",
   "metadata": {},
   "outputs": [],
   "source": [
    "import pandas as pd\n",
    "import numpy as np\n",
    "import matplotlib.pyplot as plt"
   ]
  },
  {
   "cell_type": "markdown",
   "id": "young-basketball",
   "metadata": {},
   "source": [
    "#### Insert your experimental 2$\\theta$ value and corresponding $ s = (h^2 + k^2 + l^2)$."
   ]
  },
  {
   "cell_type": "code",
   "execution_count": 128,
   "id": "relative-legend",
   "metadata": {},
   "outputs": [
    {
     "name": "stdout",
     "output_type": "stream",
     "text": [
      "The values you entered...\n"
     ]
    },
    {
     "data": {
      "text/html": [
       "<div>\n",
       "<style scoped>\n",
       "    .dataframe tbody tr th:only-of-type {\n",
       "        vertical-align: middle;\n",
       "    }\n",
       "\n",
       "    .dataframe tbody tr th {\n",
       "        vertical-align: top;\n",
       "    }\n",
       "\n",
       "    .dataframe thead th {\n",
       "        text-align: right;\n",
       "    }\n",
       "</style>\n",
       "<table border=\"1\" class=\"dataframe\">\n",
       "  <thead>\n",
       "    <tr style=\"text-align: right;\">\n",
       "      <th></th>\n",
       "      <th>twoTheta</th>\n",
       "      <th>s</th>\n",
       "    </tr>\n",
       "  </thead>\n",
       "  <tbody>\n",
       "    <tr>\n",
       "      <th>0</th>\n",
       "      <td>31.2740</td>\n",
       "      <td>3</td>\n",
       "    </tr>\n",
       "    <tr>\n",
       "      <th>1</th>\n",
       "      <td>36.3080</td>\n",
       "      <td>4</td>\n",
       "    </tr>\n",
       "    <tr>\n",
       "      <th>2</th>\n",
       "      <td>52.1832</td>\n",
       "      <td>8</td>\n",
       "    </tr>\n",
       "    <tr>\n",
       "      <th>3</th>\n",
       "      <td>62.1936</td>\n",
       "      <td>11</td>\n",
       "    </tr>\n",
       "    <tr>\n",
       "      <th>4</th>\n",
       "      <td>85.5267</td>\n",
       "      <td>19</td>\n",
       "    </tr>\n",
       "    <tr>\n",
       "      <th>5</th>\n",
       "      <td>88.3704</td>\n",
       "      <td>20</td>\n",
       "    </tr>\n",
       "    <tr>\n",
       "      <th>6</th>\n",
       "      <td>99.4594</td>\n",
       "      <td>24</td>\n",
       "    </tr>\n",
       "    <tr>\n",
       "      <th>7</th>\n",
       "      <td>108.0338</td>\n",
       "      <td>27</td>\n",
       "    </tr>\n",
       "  </tbody>\n",
       "</table>\n",
       "</div>"
      ],
      "text/plain": [
       "   twoTheta   s\n",
       "0   31.2740   3\n",
       "1   36.3080   4\n",
       "2   52.1832   8\n",
       "3   62.1936  11\n",
       "4   85.5267  19\n",
       "5   88.3704  20\n",
       "6   99.4594  24\n",
       "7  108.0338  27"
      ]
     },
     "execution_count": 128,
     "metadata": {},
     "output_type": "execute_result"
    }
   ],
   "source": [
    "peak_2T = [31.274, 36.308, 52.1832, 62.1936, 85.5267, 88.3704, 99.4594, 108.0338]   # experimentally observed 2theta values\n",
    "s = [3, 4, 8,11,19, 20, 24, 27]  # s = (h2 + k2 + l2), it should be corresponding to the peaks above\n",
    "X_ray_source = 'Co'  # change it  to 'Cu' if Cu source was used\n",
    "\n",
    "if X_ray_source =='Co':\n",
    "    Lambda = 1.7890100\n",
    "elif X_ray_source =='Cu':\n",
    "    Lambda = 1.5401\n",
    "\n",
    "if len(peak_2T) == len(s):\n",
    "    twoT_array = np.array(peak_2T)\n",
    "    s_array    = np.array(s)\n",
    "else:\n",
    "    print(\"Error: The number of peak positions do not match with s values, check your values! \")\n",
    "    \n",
    "print(\"The values you entered...\")\n",
    "df = pd.DataFrame({'twoTheta':twoT_array, 's':s_array}, columns=['twoTheta', 's'])\n",
    "df\n"
   ]
  },
  {
   "cell_type": "code",
   "execution_count": 148,
   "id": "unavailable-conference",
   "metadata": {},
   "outputs": [
    {
     "name": "stdout",
     "output_type": "stream",
     "text": [
      "True lattice parameter solving normal equation: 5.7420 Å\n",
      "True lattice parameter using direct leastsquare method: 5.7420 ± 0.0001 Å\n"
     ]
    }
   ],
   "source": [
    "Theta2rad=np.radians(df.twoTheta)\n",
    "Thetarad = np.radians(df.twoTheta/2)\n",
    "z = np.power(np.sin(Thetarad),2)    # here z =  sin^2(theta)\n",
    "y =(1/np.sin(Thetarad))+(1/Thetarad)\n",
    "delta = 10*np.power(np.sin(Theta2rad),2)*y  # delta based on Riley\n",
    "s_i =df.s   # alpha equals squares of h,k and l\n",
    "\n",
    "# we can find A and D by solving the normal equations\n",
    "def findAC(s_i,delta,z):\n",
    "    A = ((s_i*delta).sum()*(delta*z).sum()-np.power(delta,2).sum()*(s_i*z).sum())/(np.power((s_i*delta).sum(),2)-np.power(s_i,2).sum()*np.power(delta,2).sum())\n",
    "    D = ((s_i*delta).sum()*(s_i*z).sum()-(s_i*s_i).sum()*(delta*z).sum())/(np.power((s_i*delta).sum(),2)-(np.power(s_i,2).sum()*np.power(delta,2).sum()))\n",
    "    return A,D\n",
    "def LatticePara():\n",
    "    A,D = findAC(s_i,delta,z)\n",
    "    a_true = Lambda/(2*np.sqrt(A))\n",
    "    return a_true\n",
    "# One can also find A and D directly using linalg.lstsq method, this also allows one to estimate the error\n",
    "\n",
    "df['delta'] = 10*np.power(np.sin(Theta2rad),2)*(1/np.sin(Thetarad)+1/Thetarad)  # delta based on Riley\n",
    "x = df.iloc[:,1:3]\n",
    "para, residuals,rank,s = np.linalg.lstsq(x,z, rcond=1e-6)\n",
    "a_true_ls = Lambda/(2*np.sqrt(para[0]))\n",
    "MSE_A = np.mean(residuals[0])\n",
    "a_true_error = 0.5 * (MSE_A/para[0])*a_true_ls\n",
    "print(\"True lattice parameter solving normal equation: {:.4f}\".format(LatticePara()), u'\\u212B')\n",
    "print(\"True lattice parameter using direct leastsquare method: {:.4f}\".format(a_true_ls), u\"\\u00B1\", '{:.4f}'.format(a_true_error), u'\\u212B')"
   ]
  },
  {
   "cell_type": "markdown",
   "id": "double-synthesis",
   "metadata": {},
   "source": [
    "#### data visualization"
   ]
  },
  {
   "cell_type": "code",
   "execution_count": 149,
   "id": "arbitrary-wiring",
   "metadata": {},
   "outputs": [
    {
     "data": {
      "text/plain": [
       "<matplotlib.legend.Legend at 0x23b94d573a0>"
      ]
     },
     "execution_count": 149,
     "metadata": {},
     "output_type": "execute_result"
    },
    {
     "data": {
      "image/png": "[encoded data removed]",
      "text/plain": [
       "<Figure size 432x288 with 1 Axes>"
      ]
     },
     "metadata": {
      "needs_background": "light"
     },
     "output_type": "display_data"
    }
   ],
   "source": [
    "plt.scatter(df.s, z ,color='red', label='observed')\n",
    "plt.plot(df.s,(df.s*para[0]), label='expected')\n",
    "plt.ylabel(r'sin$^2{\\theta}$', fontsize=14)\n",
    "plt.xlabel(r'$s=(h^2 + k^2 + l^2)$', fontsize =14)\n",
    "plt.legend()"
   ]
  },
  {
   "cell_type": "markdown",
   "id": "sustainable-cameroon",
   "metadata": {},
   "source": [
    "Instead of Nelson-Riely, one could also use Bradley-Jay error function. In this case, it sufficient to replace the error function, which is as follows; $$ \\sin^2\\theta = \\frac{\\lambda^2}{4a_0^2}(h^2 + k^2 + l^2) + D\\sin^22\\theta \\tag{5}$$\n",
    "\n",
    "Hence, $$  \\delta_i = 10{\\sin^22\\theta_i} \\tag{6}$$\n"
   ]
  },
  {
   "cell_type": "code",
   "execution_count": 150,
   "id": "qualified-artist",
   "metadata": {},
   "outputs": [
    {
     "name": "stdout",
     "output_type": "stream",
     "text": [
      "True lattice parameter based on Bradley-Jay: 5.7420 ± 0.0001 Å\n",
      "The percentage difference between Nelson_Riely and Bradler_Jay is 0.0004%\n"
     ]
    }
   ],
   "source": [
    "df['delta_BJ'] = 10*np.power(np.sin(Theta2rad),2)   # delta based on Bradley- Jay\n",
    "x_BJ = df[['s','delta_BJ']]\n",
    "para_BJ, residuals_BJ,rank,s = np.linalg.lstsq(x_BJ,z, rcond=1e-6)\n",
    "a_true_BJ = Lambda/(2*np.sqrt(para_BJ[0]))\n",
    "MSE_A_BJ = np.mean(residuals_BJ[0])\n",
    "a_true_BJ_error = 0.5 * (MSE_A_BJ/para_BJ[0])*a_true_BJ\n",
    "per_diff = 100*np.abs((a_true_ls - a_true_BJ))/a_true\n",
    "print(\"True lattice parameter based on Bradley-Jay: {:.4f}\".format(a_true_BJ), u\"\\u00B1\", '{:.4f}'.format(a_true_BJ_error), u'\\u212B')\n",
    "print(\"The percentage difference between Nelson_Riely and Bradler_Jay is {:.4f}%\".format(per_diff))"
   ]
  },
  {
   "cell_type": "markdown",
   "id": "surprised-midnight",
   "metadata": {},
   "source": [
    "### One can extend this idea for hexagonal crystal"
   ]
  },
  {
   "cell_type": "markdown",
   "id": "improving-serum",
   "metadata": {},
   "source": [
    "For hexagonal system equation (2) could be modified as; $$ \\sin^2\\theta = \\frac{\\lambda^2}{3a_0^2}(h^2 + hk + k^2) + \\frac{\\lambda^2}{4c_0^2}l^2 + 2D\\sin^2\\theta[\\frac{\\cos^2\\theta}{\\sin\\theta} + \\frac{\\cos^2\\theta}{\\theta}] \\tag{7}$$\n",
    "\n",
    "Here we are interested in two true parameters; $a_0$ and $c_0$  \n",
    "\n",
    "Similary, equation (3) can be written as; $$ \\sin^2\\theta_i = A\\alpha_i +  B\\beta_i + D\\delta_i \\tag{8}$$ \n",
    "\n",
    "Here $\\alpha_i = (h^2 + hk + k^2)$ and $\\beta_i = l^2$. One can then find true values of a and c by estimating A and C so that the error: $$ \\sum \\limits_{i}(\\sin^2\\theta_i - A\\alpha_i - B\\beta_i - D\\delta_i)^2 \\tag{9}$$ is minimized.\n",
    "\n",
    "Since there are three parameters, solving it by normal equations involves many parameters. Hence, we will estimate A, B, and D by using `np.linalg.lstsq` method."
   ]
  },
  {
   "cell_type": "code",
   "execution_count": 151,
   "id": "frozen-stable",
   "metadata": {},
   "outputs": [
    {
     "name": "stdout",
     "output_type": "stream",
     "text": [
      "The values you entered...\n"
     ]
    },
    {
     "data": {
      "text/html": [
       "<div>\n",
       "<style scoped>\n",
       "    .dataframe tbody tr th:only-of-type {\n",
       "        vertical-align: middle;\n",
       "    }\n",
       "\n",
       "    .dataframe tbody tr th {\n",
       "        vertical-align: top;\n",
       "    }\n",
       "\n",
       "    .dataframe thead th {\n",
       "        text-align: right;\n",
       "    }\n",
       "</style>\n",
       "<table border=\"1\" class=\"dataframe\">\n",
       "  <thead>\n",
       "    <tr style=\"text-align: right;\">\n",
       "      <th></th>\n",
       "      <th>twoTheta</th>\n",
       "      <th>alpha</th>\n",
       "      <th>beta</th>\n",
       "    </tr>\n",
       "  </thead>\n",
       "  <tbody>\n",
       "    <tr>\n",
       "      <th>0</th>\n",
       "      <td>22.464</td>\n",
       "      <td>1</td>\n",
       "      <td>0</td>\n",
       "    </tr>\n",
       "    <tr>\n",
       "      <th>1</th>\n",
       "      <td>39.728</td>\n",
       "      <td>3</td>\n",
       "      <td>0</td>\n",
       "    </tr>\n",
       "    <tr>\n",
       "      <th>2</th>\n",
       "      <td>46.214</td>\n",
       "      <td>4</td>\n",
       "      <td>0</td>\n",
       "    </tr>\n",
       "    <tr>\n",
       "      <th>3</th>\n",
       "      <td>49.090</td>\n",
       "      <td>0</td>\n",
       "      <td>4</td>\n",
       "    </tr>\n",
       "    <tr>\n",
       "      <th>4</th>\n",
       "      <td>62.570</td>\n",
       "      <td>7</td>\n",
       "      <td>0</td>\n",
       "    </tr>\n",
       "    <tr>\n",
       "      <th>5</th>\n",
       "      <td>82.389</td>\n",
       "      <td>1</td>\n",
       "      <td>9</td>\n",
       "    </tr>\n",
       "    <tr>\n",
       "      <th>6</th>\n",
       "      <td>85.655</td>\n",
       "      <td>12</td>\n",
       "      <td>0</td>\n",
       "    </tr>\n",
       "    <tr>\n",
       "      <th>7</th>\n",
       "      <td>92.328</td>\n",
       "      <td>9</td>\n",
       "      <td>4</td>\n",
       "    </tr>\n",
       "    <tr>\n",
       "      <th>8</th>\n",
       "      <td>103.440</td>\n",
       "      <td>16</td>\n",
       "      <td>0</td>\n",
       "    </tr>\n",
       "    <tr>\n",
       "      <th>9</th>\n",
       "      <td>108.710</td>\n",
       "      <td>16</td>\n",
       "      <td>1</td>\n",
       "    </tr>\n",
       "  </tbody>\n",
       "</table>\n",
       "</div>"
      ],
      "text/plain": [
       "   twoTheta  alpha  beta\n",
       "0    22.464      1     0\n",
       "1    39.728      3     0\n",
       "2    46.214      4     0\n",
       "3    49.090      0     4\n",
       "4    62.570      7     0\n",
       "5    82.389      1     9\n",
       "6    85.655     12     0\n",
       "7    92.328      9     4\n",
       "8   103.440     16     0\n",
       "9   108.710     16     1"
      ]
     },
     "execution_count": 151,
     "metadata": {},
     "output_type": "execute_result"
    }
   ],
   "source": [
    "peak_2T = [22.464, 39.728, 46.214, 49.09, 62.57, 82.389, 85.655, 92.328, 103.44, 108.71]   # experimentally observed 2theta values\n",
    "alpha = [1, 3, 4,0,7, 1, 12, 9,16,16]  # alpha = (h2 + hk + k2), it should be corresponding to the peaks above\n",
    "beta  = [0, 0, 0, 4,0,9,0,4,0,1]\n",
    "X_ray_source = 'Co'  # change it  to 'Cu' if Cu source was used\n",
    "\n",
    "if X_ray_source =='Co':\n",
    "    Lambda = 1.7890100\n",
    "elif X_ray_source =='Cu':\n",
    "    Lambda = 1.5401\n",
    "\n",
    "if len(peak_2T) == len(alpha) == len(beta):\n",
    "    twoT_array = np.array(peak_2T)\n",
    "    alpha_array  = np.array(alpha)\n",
    "    beta_array   = np.array(beta)\n",
    "else:\n",
    "    print(\"Error: The number of peak positions do not match with s values, check your values! \")\n",
    "    \n",
    "print(\"The values you entered...\")\n",
    "df_hex = pd.DataFrame({'twoTheta':twoT_array, 'alpha':alpha_array, 'beta':beta_array}, columns=['twoTheta', 'alpha', 'beta'])\n",
    "df_hex"
   ]
  },
  {
   "cell_type": "code",
   "execution_count": 153,
   "id": "micro-kansas",
   "metadata": {},
   "outputs": [
    {
     "name": "stdout",
     "output_type": "stream",
     "text": [
      "a0: 5.2598 Å\n",
      "c0: 4.2719 Å\n"
     ]
    }
   ],
   "source": [
    "Theta2rad = np.radians(df_hex.twoTheta)\n",
    "Thetarad = np.radians(df_hex.twoTheta/2)\n",
    "z = np.power(np.sin(Thetarad),2)    #here z =  sin^2(theta)\n",
    "\n",
    "df_hex['delta'] = 10*np.power(np.sin(Theta2rad),2)*(1/np.sin(Thetarad)+1/Thetarad)  # delta based on Riley\n",
    "x = df_hex.iloc[:,1:4]\n",
    "para, residuals,rank,s = np.linalg.lstsq(x,z,rcond=1e-6)\n",
    "a_true = Lambda/(np.sqrt(3*para[0]))\n",
    "c_true = Lambda/(2*np.sqrt(para[1]))\n",
    "print(\"a0: {:.4f}\".format(a_true), u'\\u212B')\n",
    "print(\"c0: {:.4f}\".format(c_true), u'\\u212B')"
   ]
  },
  {
   "cell_type": "markdown",
   "id": "laden-behalf",
   "metadata": {},
   "source": [
    "Instead of Nelson-Riely, one could also use Bradley-Jay error function. In this case, it sufficient to replace the error function, which is as follows; $$ \\sin^2\\theta = \\frac{\\lambda^2}{3a_0^2}(h^2 + hk + k^2) + \\frac{\\lambda^2}{4c_0^2}l^2 + D\\sin^22\\theta \\tag{10}$$\n",
    "\n"
   ]
  },
  {
   "cell_type": "code",
   "execution_count": 155,
   "id": "binary-walnut",
   "metadata": {},
   "outputs": [
    {
     "name": "stdout",
     "output_type": "stream",
     "text": [
      "a0_BJ: 5.2567 Å\n",
      "c0_BJ: 4.2691 Å\n"
     ]
    }
   ],
   "source": [
    "df_hex['delta_BJ'] = 10*np.power(np.sin(Theta2rad),2)   # delta based on Bradley- Jay\n",
    "x1 = df_hex[['alpha','beta','delta_BJ']]\n",
    "para, residuals,rank,s = np.linalg.lstsq(x1,z, rcond=1e-6)\n",
    "a_true_BJ = Lambda/(np.sqrt(3*para[0]))\n",
    "c_true_BJ = Lambda/(2*np.sqrt(para[1]))\n",
    "print(\"a0_BJ: {:.4f}\".format(a_true_BJ), u'\\u212B')\n",
    "print(\"c0_BJ: {:.4f}\".format(c_true_BJ), u'\\u212B')"
   ]
  },
  {
   "cell_type": "code",
   "execution_count": null,
   "id": "julian-venture",
   "metadata": {},
   "outputs": [],
   "source": []
  }
 ],
 "metadata": {
  "kernelspec": {
   "display_name": "python38",
   "language": "python",
   "name": "python38"
  },
  "language_info": {
   "codemirror_mode": {
    "name": "ipython",
    "version": 3
   },
   "file_extension": ".py",
   "mimetype": "text/x-python",
   "name": "python",
   "nbconvert_exporter": "python",
   "pygments_lexer": "ipython3",
   "version": "3.8.8"
  }
 },
 "nbformat": 4,
 "nbformat_minor": 5
}
