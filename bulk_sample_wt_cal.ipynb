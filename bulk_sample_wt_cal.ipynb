{
 "cells": [
  {
   "cell_type": "markdown",
   "metadata": {
    "collapsed": true
   },
   "source": [
    "## Calculate the weight of individual element to synthesize bulk ingots of alloys"
   ]
  },
  {
   "cell_type": "markdown",
   "metadata": {},
   "source": [
    "This notebook helps in determining the weights of elements, in grams, to preparte bulk ingots of alloys. If we want to synthesize Co$_2$FeGe, for example, then we need the weights of Co, Fe, and Ge. The general idea is to find the total atomic weight of the alloy and use it to determine the weight fraction of each elements. Then the weight fraction can be used to find the weight of the elements (in grams) to make an alloy of desired weight (for example 5 grams)."
   ]
  },
  {
   "cell_type": "markdown",
   "metadata": {},
   "source": [
    "***Getting data:*** We use the periodic table from Github page uploaded by Goodman Sciences. We direclty import the data and read this as pandas dataframe."
   ]
  },
  {
   "cell_type": "code",
   "execution_count": 1,
   "metadata": {},
   "outputs": [
    {
     "data": {
      "text/html": [
       "<div>\n",
       "<style scoped>\n",
       "    .dataframe tbody tr th:only-of-type {\n",
       "        vertical-align: middle;\n",
       "    }\n",
       "\n",
       "    .dataframe tbody tr th {\n",
       "        vertical-align: top;\n",
       "    }\n",
       "\n",
       "    .dataframe thead th {\n",
       "        text-align: right;\n",
       "    }\n",
       "</style>\n",
       "<table border=\"1\" class=\"dataframe\">\n",
       "  <thead>\n",
       "    <tr style=\"text-align: right;\">\n",
       "      <th></th>\n",
       "      <th>AtomicNumber</th>\n",
       "      <th>Element</th>\n",
       "      <th>Symbol</th>\n",
       "      <th>AtomicMass</th>\n",
       "      <th>NumberofNeutrons</th>\n",
       "      <th>NumberofProtons</th>\n",
       "      <th>NumberofElectrons</th>\n",
       "      <th>Period</th>\n",
       "      <th>Group</th>\n",
       "      <th>Phase</th>\n",
       "      <th>...</th>\n",
       "      <th>FirstIonization</th>\n",
       "      <th>Density</th>\n",
       "      <th>MeltingPoint</th>\n",
       "      <th>BoilingPoint</th>\n",
       "      <th>NumberOfIsotopes</th>\n",
       "      <th>Discoverer</th>\n",
       "      <th>Year</th>\n",
       "      <th>SpecificHeat</th>\n",
       "      <th>NumberofShells</th>\n",
       "      <th>NumberofValence</th>\n",
       "    </tr>\n",
       "  </thead>\n",
       "  <tbody>\n",
       "    <tr>\n",
       "      <th>0</th>\n",
       "      <td>1</td>\n",
       "      <td>Hydrogen</td>\n",
       "      <td>H</td>\n",
       "      <td>1.007</td>\n",
       "      <td>0</td>\n",
       "      <td>1</td>\n",
       "      <td>1</td>\n",
       "      <td>1</td>\n",
       "      <td>1.0</td>\n",
       "      <td>gas</td>\n",
       "      <td>...</td>\n",
       "      <td>13.5984</td>\n",
       "      <td>0.000090</td>\n",
       "      <td>14.175</td>\n",
       "      <td>20.28</td>\n",
       "      <td>3.0</td>\n",
       "      <td>Cavendish</td>\n",
       "      <td>1766.0</td>\n",
       "      <td>14.304</td>\n",
       "      <td>1</td>\n",
       "      <td>1.0</td>\n",
       "    </tr>\n",
       "    <tr>\n",
       "      <th>1</th>\n",
       "      <td>2</td>\n",
       "      <td>Helium</td>\n",
       "      <td>He</td>\n",
       "      <td>4.002</td>\n",
       "      <td>2</td>\n",
       "      <td>2</td>\n",
       "      <td>2</td>\n",
       "      <td>1</td>\n",
       "      <td>18.0</td>\n",
       "      <td>gas</td>\n",
       "      <td>...</td>\n",
       "      <td>24.5874</td>\n",
       "      <td>0.000179</td>\n",
       "      <td>NaN</td>\n",
       "      <td>4.22</td>\n",
       "      <td>5.0</td>\n",
       "      <td>Janssen</td>\n",
       "      <td>1868.0</td>\n",
       "      <td>5.193</td>\n",
       "      <td>1</td>\n",
       "      <td>NaN</td>\n",
       "    </tr>\n",
       "    <tr>\n",
       "      <th>2</th>\n",
       "      <td>3</td>\n",
       "      <td>Lithium</td>\n",
       "      <td>Li</td>\n",
       "      <td>6.941</td>\n",
       "      <td>4</td>\n",
       "      <td>3</td>\n",
       "      <td>3</td>\n",
       "      <td>2</td>\n",
       "      <td>1.0</td>\n",
       "      <td>solid</td>\n",
       "      <td>...</td>\n",
       "      <td>5.3917</td>\n",
       "      <td>0.534000</td>\n",
       "      <td>453.850</td>\n",
       "      <td>1615.00</td>\n",
       "      <td>5.0</td>\n",
       "      <td>Arfvedson</td>\n",
       "      <td>1817.0</td>\n",
       "      <td>3.582</td>\n",
       "      <td>2</td>\n",
       "      <td>1.0</td>\n",
       "    </tr>\n",
       "    <tr>\n",
       "      <th>3</th>\n",
       "      <td>4</td>\n",
       "      <td>Beryllium</td>\n",
       "      <td>Be</td>\n",
       "      <td>9.012</td>\n",
       "      <td>5</td>\n",
       "      <td>4</td>\n",
       "      <td>4</td>\n",
       "      <td>2</td>\n",
       "      <td>2.0</td>\n",
       "      <td>solid</td>\n",
       "      <td>...</td>\n",
       "      <td>9.3227</td>\n",
       "      <td>1.850000</td>\n",
       "      <td>1560.150</td>\n",
       "      <td>2742.00</td>\n",
       "      <td>6.0</td>\n",
       "      <td>Vaulquelin</td>\n",
       "      <td>1798.0</td>\n",
       "      <td>1.825</td>\n",
       "      <td>2</td>\n",
       "      <td>2.0</td>\n",
       "    </tr>\n",
       "    <tr>\n",
       "      <th>4</th>\n",
       "      <td>5</td>\n",
       "      <td>Boron</td>\n",
       "      <td>B</td>\n",
       "      <td>10.811</td>\n",
       "      <td>6</td>\n",
       "      <td>5</td>\n",
       "      <td>5</td>\n",
       "      <td>2</td>\n",
       "      <td>13.0</td>\n",
       "      <td>solid</td>\n",
       "      <td>...</td>\n",
       "      <td>8.2980</td>\n",
       "      <td>2.340000</td>\n",
       "      <td>2573.150</td>\n",
       "      <td>4200.00</td>\n",
       "      <td>6.0</td>\n",
       "      <td>Gay-Lussac</td>\n",
       "      <td>1808.0</td>\n",
       "      <td>1.026</td>\n",
       "      <td>2</td>\n",
       "      <td>3.0</td>\n",
       "    </tr>\n",
       "  </tbody>\n",
       "</table>\n",
       "<p>5 rows × 28 columns</p>\n",
       "</div>"
      ],
      "text/plain": [
       "   AtomicNumber    Element Symbol  AtomicMass  NumberofNeutrons  \\\n",
       "0             1   Hydrogen      H       1.007                 0   \n",
       "1             2     Helium     He       4.002                 2   \n",
       "2             3    Lithium     Li       6.941                 4   \n",
       "3             4  Beryllium     Be       9.012                 5   \n",
       "4             5      Boron      B      10.811                 6   \n",
       "\n",
       "   NumberofProtons  NumberofElectrons  Period  Group  Phase  ...  \\\n",
       "0                1                  1       1    1.0    gas  ...   \n",
       "1                2                  2       1   18.0    gas  ...   \n",
       "2                3                  3       2    1.0  solid  ...   \n",
       "3                4                  4       2    2.0  solid  ...   \n",
       "4                5                  5       2   13.0  solid  ...   \n",
       "\n",
       "  FirstIonization   Density MeltingPoint BoilingPoint NumberOfIsotopes  \\\n",
       "0         13.5984  0.000090       14.175        20.28              3.0   \n",
       "1         24.5874  0.000179          NaN         4.22              5.0   \n",
       "2          5.3917  0.534000      453.850      1615.00              5.0   \n",
       "3          9.3227  1.850000     1560.150      2742.00              6.0   \n",
       "4          8.2980  2.340000     2573.150      4200.00              6.0   \n",
       "\n",
       "   Discoverer    Year  SpecificHeat  NumberofShells  NumberofValence  \n",
       "0   Cavendish  1766.0        14.304               1              1.0  \n",
       "1     Janssen  1868.0         5.193               1              NaN  \n",
       "2   Arfvedson  1817.0         3.582               2              1.0  \n",
       "3  Vaulquelin  1798.0         1.825               2              2.0  \n",
       "4  Gay-Lussac  1808.0         1.026               2              3.0  \n",
       "\n",
       "[5 rows x 28 columns]"
      ]
     },
     "execution_count": 1,
     "metadata": {},
     "output_type": "execute_result"
    }
   ],
   "source": [
    "path = \"https://gist.github.com/GoodmanSciences/c2dd862cd38f21b0ad36b8f96b4bf1ee/raw/1d92663004489a5b6926e944c1b3d9ec5c40900e/Periodic%2520Table%2520of%2520Elements.csv\"\n",
    "import pandas as pd\n",
    "df = pd.read_csv(path)\n",
    "df.head()"
   ]
  },
  {
   "cell_type": "markdown",
   "metadata": {},
   "source": [
    "When entering the symbols of elements, it is a good idea to make it case-insensitive. So, we create a column, where we store the elements symbol in all uppercase."
   ]
  },
  {
   "cell_type": "code",
   "execution_count": 2,
   "metadata": {},
   "outputs": [],
   "source": [
    "df[\"Symbol_upper\"] = df[\"Symbol\"].str.upper()\n"
   ]
  },
  {
   "cell_type": "markdown",
   "metadata": {},
   "source": [
    "The cell below takes the elements name and their respective atomic fractions as keyboard inputs. There is no limit on the number of elements, but to break the process, it is required to enter 0. An example of Co$_2$FeGe is shown."
   ]
  },
  {
   "cell_type": "code",
   "execution_count": 11,
   "metadata": {},
   "outputs": [
    {
     "name": "stdout",
     "output_type": "stream",
     "text": [
      "Enter the name of element, enter 0 to break:co\n",
      "Enter the atomic fraction of the element:2\n",
      "Enter the name of element, enter 0 to break:fe\n",
      "Enter the atomic fraction of the element:1\n",
      "Enter the name of element, enter 0 to break:ge\n",
      "Enter the atomic fraction of the element:1\n",
      "Enter the name of element, enter 0 to break:0\n"
     ]
    }
   ],
   "source": [
    "dic1 = {}       #create a dictionary with desired elements\n",
    "tot_weight = 0\n",
    "while True:\n",
    "      element_ = input(\"Enter the name of element, enter 0 to break:\").upper()\n",
    "      if str(element_) == \"0\":\n",
    "          break\n",
    "      fraction_ = float(input(\"Enter the atomic fraction of the element:\"))\n",
    "      dic1[element_] = df.loc[df[\"Symbol_upper\"]==element_,\"AtomicMass\"].item()*fraction_   # atomic wt. of element scaled by their atomic fraction in the alloy\n",
    "      tot_weight = tot_weight + (dic1[element_]) # calculate total weight for the alloy"
   ]
  },
  {
   "cell_type": "markdown",
   "metadata": {},
   "source": [
    "The cell below takes the desired sample weight as keyboard input and calculates weight %, atomic %, weight in grams and stores the result into a dictionary.\n",
    "\n",
    "If different sample weight is needed, one can just run the cells below. No need to run above cells, given that they have run already."
   ]
  },
  {
   "cell_type": "code",
   "execution_count": 28,
   "metadata": {},
   "outputs": [
    {
     "name": "stdout",
     "output_type": "stream",
     "text": [
      "Enter the sample weight you want in grams: 5\n",
      "The desired sample weight is entered as 5.0 grams\n"
     ]
    }
   ],
   "source": [
    "samplewt = float(input(\"Enter the sample weight you want in grams: \"))  \n",
    "print(\"The desired sample weight is entered as {} grams\".format(samplewt))\n",
    "dic_result = {}\n",
    "for key in dic1.keys(): \n",
    "    wt_per = round((dic1[key]/tot_weight)*100,3)\n",
    "    at_per = round(wt_per/df[df[\"Symbol_upper\"]==key][\"AtomicMass\"].iloc[0],3)\n",
    "    element_wt = round(wt_per*samplewt/100,3)\n",
    "    dic_result[df[df[\"Symbol_upper\"]==key][\"Symbol\"].iloc[0]] = [wt_per, at_per, element_wt]\n",
    "    "
   ]
  },
  {
   "cell_type": "markdown",
   "metadata": {},
   "source": [
    "The dictionary is then converted into pandas dataframe, which helps in visualizing the result."
   ]
  },
  {
   "cell_type": "code",
   "execution_count": 37,
   "metadata": {},
   "outputs": [
    {
     "name": "stdout",
     "output_type": "stream",
     "text": [
      "The desired results for 5.0 grams sample\n"
     ]
    },
    {
     "data": {
      "text/html": [
       "<div>\n",
       "<style scoped>\n",
       "    .dataframe tbody tr th:only-of-type {\n",
       "        vertical-align: middle;\n",
       "    }\n",
       "\n",
       "    .dataframe tbody tr th {\n",
       "        vertical-align: top;\n",
       "    }\n",
       "\n",
       "    .dataframe thead th {\n",
       "        text-align: right;\n",
       "    }\n",
       "</style>\n",
       "<table border=\"1\" class=\"dataframe\">\n",
       "  <thead>\n",
       "    <tr style=\"text-align: right;\">\n",
       "      <th></th>\n",
       "      <th>Weight %</th>\n",
       "      <th>Atomic %</th>\n",
       "      <th>Desired Weight(in grams)</th>\n",
       "    </tr>\n",
       "    <tr>\n",
       "      <th>Element</th>\n",
       "      <th></th>\n",
       "      <th></th>\n",
       "      <th></th>\n",
       "    </tr>\n",
       "  </thead>\n",
       "  <tbody>\n",
       "    <tr>\n",
       "      <th>Co</th>\n",
       "      <td>47.845</td>\n",
       "      <td>50.0</td>\n",
       "      <td>2.392</td>\n",
       "    </tr>\n",
       "    <tr>\n",
       "      <th>Fe</th>\n",
       "      <td>22.669</td>\n",
       "      <td>25.0</td>\n",
       "      <td>1.133</td>\n",
       "    </tr>\n",
       "    <tr>\n",
       "      <th>Ge</th>\n",
       "      <td>29.486</td>\n",
       "      <td>25.0</td>\n",
       "      <td>1.474</td>\n",
       "    </tr>\n",
       "    <tr>\n",
       "      <th>Total</th>\n",
       "      <td>100.000</td>\n",
       "      <td>100.0</td>\n",
       "      <td>4.999</td>\n",
       "    </tr>\n",
       "  </tbody>\n",
       "</table>\n",
       "</div>"
      ],
      "text/plain": [
       "         Weight %  Atomic %  Desired Weight(in grams)\n",
       "Element                                              \n",
       "Co         47.845      50.0                     2.392\n",
       "Fe         22.669      25.0                     1.133\n",
       "Ge         29.486      25.0                     1.474\n",
       "Total     100.000     100.0                     4.999"
      ]
     },
     "execution_count": 37,
     "metadata": {},
     "output_type": "execute_result"
    }
   ],
   "source": [
    "result_df = pd.DataFrame(dic_result, index=['Weight %','Atomic %','Desired Weight(in grams)']).transpose()\n",
    "result_df['Atomic %'] = (result_df['Atomic %']/result_df['Atomic %'].sum())*100\n",
    "result_df.index.name = \"Element\"\n",
    "result_df.loc['Total'] = result_df.sum( numeric_only=True,axis=0)\n",
    "print(\"The desired results for {} grams sample\".format(samplewt))\n",
    "result_df"
   ]
  },
  {
   "cell_type": "markdown",
   "metadata": {
    "collapsed": true
   },
   "source": [
    "Hence, to make 5 grams of Co$_2$FeGe, one requires 2.392 grams Co, 1.133 grams Fe, and 1.474 grams Ge."
   ]
  },
  {
   "cell_type": "code",
   "execution_count": null,
   "metadata": {},
   "outputs": [],
   "source": []
  }
 ],
 "metadata": {
  "kernelspec": {
   "display_name": "Python 3",
   "language": "python",
   "name": "python3"
  },
  "language_info": {
   "codemirror_mode": {
    "name": "ipython",
    "version": 3
   },
   "file_extension": ".py",
   "mimetype": "text/x-python",
   "name": "python",
   "nbconvert_exporter": "python",
   "pygments_lexer": "ipython3",
   "version": "3.9.2"
  }
 },
 "nbformat": 4,
 "nbformat_minor": 2
}
